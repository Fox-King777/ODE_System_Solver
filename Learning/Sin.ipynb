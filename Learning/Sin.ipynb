{
 "cells": [
  {
   "cell_type": "code",
   "execution_count": 8,
   "id": "11a4b3b3-4ff9-4dcc-8184-1736e7fb5150",
   "metadata": {},
   "outputs": [],
   "source": [
    "import torch, torch.nn as nn, torch.utils.data as data, torchvision as tv, torch.nn.functional as F\n",
    "import lightning as L\n",
    "import numpy as np\n",
    "\n",
    "\n",
    "class Learner(L.LightningModule):\n",
    "    def __init__(self, model):\n",
    "        super().__init__()\n",
    "        self.model = model\n",
    "\n",
    "    def forward(self, x):\n",
    "        return self.model(x);\n",
    "\n",
    "    def training_step(self, batch, batch_idx):\n",
    "        x, y = batch\n",
    "        y_hat = self.model(x)\n",
    "        loss = nn.MSELoss()(y_hat, y)\n",
    "        self.log(\"train_loss\", loss, prog_bar=True, on_step=True, on_epoch=True)\n",
    "        return loss\n",
    "\n",
    "    def configure_optimizers(self):\n",
    "        optimizer = torch.optim.Adam(self.parameters(), lr=.001)\n",
    "        return optimizer"
   ]
  },
  {
   "cell_type": "code",
   "execution_count": 9,
   "id": "242c512e-5965-4883-bd46-a7777870e248",
   "metadata": {},
   "outputs": [],
   "source": [
    "class Dataset(data.Dataset):\n",
    "\n",
    "    def __init__(self, init, end, n):\n",
    "\n",
    "        self.n = n\n",
    "        #self.x = np.random.rand(self.n, 1) * (end - init) + init\n",
    "        self.x = torch.linspace(init, end, self.n)\n",
    "        self.y = np.exp(self.x)\n",
    "\n",
    "    def __len__(self):\n",
    "\n",
    "        return self.n\n",
    "\n",
    "    def __getitem__(self, idx):\n",
    "\n",
    "        x = self.x[idx, np.newaxis]\n",
    "        y = self.y[idx, np.newaxis]\n",
    "\n",
    "        return torch.Tensor(x), torch.Tensor(y)"
   ]
  },
  {
   "cell_type": "code",
   "execution_count": 10,
   "id": "d801d569-e275-4277-a147-fc36b4ef3d85",
   "metadata": {},
   "outputs": [],
   "source": [
    "train = Dataset(-np.pi * 2, np.pi * 2, 1000)"
   ]
  },
  {
   "cell_type": "code",
   "execution_count": 11,
   "id": "d8f9ec0e-5e60-441c-bf13-b6d132fbd069",
   "metadata": {},
   "outputs": [
    {
     "data": {
      "text/plain": [
       "Sequential(\n",
       "  (0): Linear(in_features=1, out_features=20, bias=True)\n",
       "  (1): ELU(alpha=1.0)\n",
       "  (2): Linear(in_features=20, out_features=50, bias=True)\n",
       "  (3): ELU(alpha=1.0)\n",
       "  (4): Linear(in_features=50, out_features=50, bias=True)\n",
       "  (5): ELU(alpha=1.0)\n",
       "  (6): Linear(in_features=50, out_features=1, bias=True)\n",
       ")"
      ]
     },
     "execution_count": 11,
     "metadata": {},
     "output_type": "execute_result"
    }
   ],
   "source": [
    "net = nn.Sequential(\n",
    "        nn.Linear(1, 20),\n",
    "        nn.ELU(),\n",
    "        nn.Linear(20, 50),\n",
    "        nn.ELU(),\n",
    "        nn.Linear(50, 50),\n",
    "        nn.ELU(),\n",
    "        nn.Linear(50, 1)\n",
    "    )\n",
    "net"
   ]
  },
  {
   "cell_type": "code",
   "execution_count": 12,
   "id": "f6bc8d99-b16e-437a-89d1-a5a09f4abc36",
   "metadata": {},
   "outputs": [
    {
     "name": "stderr",
     "output_type": "stream",
     "text": [
      "GPU available: False, used: False\n",
      "TPU available: False, using: 0 TPU cores\n",
      "IPU available: False, using: 0 IPUs\n",
      "HPU available: False, using: 0 HPUs\n",
      "\n",
      "  | Name  | Type       | Params\n",
      "-------------------------------------\n",
      "0 | model | Sequential | 3.7 K \n",
      "-------------------------------------\n",
      "3.7 K     Trainable params\n",
      "0         Non-trainable params\n",
      "3.7 K     Total params\n",
      "0.015     Total estimated model params size (MB)\n"
     ]
    },
    {
     "data": {
      "application/vnd.jupyter.widget-view+json": {
       "model_id": "5adcaff1bcc1479b95678b30a5cd0ddd",
       "version_major": 2,
       "version_minor": 0
      },
      "text/plain": [
       "Training: |                                                                                      | 0/? [00:00<…"
      ]
     },
     "metadata": {},
     "output_type": "display_data"
    },
    {
     "name": "stderr",
     "output_type": "stream",
     "text": [
      "`Trainer.fit` stopped: `max_epochs=1000` reached.\n"
     ]
    }
   ],
   "source": [
    "trainer = L.Trainer(logger=False, max_epochs=1000)\n",
    "learner = Learner(net)\n",
    "trainer.fit(learner, data.DataLoader(train, batch_size=20))"
   ]
  },
  {
   "cell_type": "code",
   "execution_count": 14,
   "id": "c0c68b78-7f7b-44cc-80f9-a40b9d35d5a8",
   "metadata": {},
   "outputs": [
    {
     "data": {
      "text/plain": [
       "<matplotlib.collections.PathCollection at 0x231561ac110>"
      ]
     },
     "execution_count": 14,
     "metadata": {},
     "output_type": "execute_result"
    },
    {
     "data": {
      "image/png": "[encoded data removed]",
      "text/plain": [
       "<Figure size 1000x500 with 1 Axes>"
      ]
     },
     "metadata": {},
     "output_type": "display_data"
    }
   ],
   "source": [
    "import matplotlib.pyplot as plt\n",
    "\n",
    "y_hat = learner.model.forward(train.x.view(1000, 1))\n",
    "y_hat = y_hat.detach().cpu()\n",
    "fig = plt.figure(figsize=(10,5))\n",
    "ax = fig.add_subplot(121)\n",
    "ax.plot(train.x, y_hat, color='black')\n",
    "ax.scatter(train.x, train.y)"
   ]
  },
  {
   "cell_type": "code",
   "execution_count": null,
   "id": "b5ce76b9-5fe0-4f72-94c7-2c0f2ecb30ba",
   "metadata": {},
   "outputs": [],
   "source": []
  }
 ],
 "metadata": {
  "kernelspec": {
   "display_name": "Python 3 (ipykernel)",
   "language": "python",
   "name": "python3"
  },
  "language_info": {
   "codemirror_mode": {
    "name": "ipython",
    "version": 3
   },
   "file_extension": ".py",
   "mimetype": "text/x-python",
   "name": "python",
   "nbconvert_exporter": "python",
   "pygments_lexer": "ipython3",
   "version": "3.12.1"
  }
 },
 "nbformat": 4,
 "nbformat_minor": 5
}
