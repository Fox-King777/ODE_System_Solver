{
 "cells": [
  {
   "cell_type": "code",
   "execution_count": 1,
   "id": "7dcce121-0e03-41d7-848b-95f031455572",
   "metadata": {},
   "outputs": [],
   "source": [
    "import autograd.numpy as np\n",
    "from autograd import grad, elementwise_grad"
   ]
  },
  {
   "cell_type": "code",
   "execution_count": 9,
   "id": "22f1a86e-8317-4f96-80e2-069c331611ef",
   "metadata": {},
   "outputs": [
    {
     "data": {
      "text/plain": [
       "7.0"
      ]
     },
     "execution_count": 9,
     "metadata": {},
     "output_type": "execute_result"
    }
   ],
   "source": [
    "g = lambda x, w : 5 * x + 7 * w\n",
    "dgdx = elementwise_grad(g, 0)\n",
    "\n",
    "dgdx(1.0, 1.0)"
   ]
  },
  {
   "cell_type": "code",
   "execution_count": 10,
   "id": "34efbf04-017f-41b4-a407-dc4b1bcd74fb",
   "metadata": {},
   "outputs": [
    {
     "data": {
      "text/plain": [
       "17"
      ]
     },
     "execution_count": 10,
     "metadata": {},
     "output_type": "execute_result"
    }
   ],
   "source": [
    "g(2, 1)"
   ]
  },
  {
   "cell_type": "code",
   "execution_count": 14,
   "id": "0a014c8f-3edd-45ee-91c6-219f784a751f",
   "metadata": {},
   "outputs": [
    {
     "data": {
      "text/plain": [
       "34"
      ]
     },
     "execution_count": 14,
     "metadata": {},
     "output_type": "execute_result"
    }
   ],
   "source": [
    "f = lambda w, x : 3 * x + 6 * w + g(x, w)\n",
    "f(2, 1)"
   ]
  },
  {
   "cell_type": "code",
   "execution_count": 17,
   "id": "80d8255e-668d-411b-9624-3c10a1f59c46",
   "metadata": {},
   "outputs": [],
   "source": [
    "dfdx = elementwise_grad(f, 1)"
   ]
  },
  {
   "cell_type": "code",
   "execution_count": 18,
   "id": "99a6c796-6880-440b-8629-2f76d4a16616",
   "metadata": {},
   "outputs": [
    {
     "data": {
      "text/plain": [
       "8.0"
      ]
     },
     "execution_count": 18,
     "metadata": {},
     "output_type": "execute_result"
    }
   ],
   "source": [
    "dfdx(1.0, 1.0)"
   ]
  },
  {
   "cell_type": "code",
   "execution_count": 27,
   "id": "6b7e26b5-a723-4190-b5ac-e513d0c6d8e2",
   "metadata": {},
   "outputs": [],
   "source": [
    "import torch, torch.nn as nn, torch.utils.data as data, torch.nn.functional as F\n",
    "from torch.autograd import grad\n",
    "import lightning as L\n",
    "import numpy as np"
   ]
  },
  {
   "cell_type": "code",
   "execution_count": 28,
   "id": "bedfa671-fd08-4580-ad54-a81e80eeb085",
   "metadata": {},
   "outputs": [],
   "source": [
    "a = torch.tensor([2., 3.], requires_grad=True)\n",
    "b = torch.tensor([6., 4.], requires_grad=True)\n",
    "\n",
    "Q = 3*a**3 - b**2"
   ]
  },
  {
   "cell_type": "code",
   "execution_count": 35,
   "id": "7d37fb5e-aaf5-4b3e-9cb1-9092099c539f",
   "metadata": {},
   "outputs": [],
   "source": [
    "external_grad = torch.tensor([1., 1.])\n",
    "Q.backward(retain_graph=True, gradient=external_grad)"
   ]
  },
  {
   "cell_type": "code",
   "execution_count": 36,
   "id": "ca41b1c0-e5aa-4cbc-a9b2-c3708c850fdc",
   "metadata": {},
   "outputs": [
    {
     "data": {
      "text/plain": [
       "tensor([180., 405.])"
      ]
     },
     "execution_count": 36,
     "metadata": {},
     "output_type": "execute_result"
    }
   ],
   "source": [
    "a.grad"
   ]
  },
  {
   "cell_type": "code",
   "execution_count": null,
   "id": "ccdc524e-8a5e-421f-a4fd-ec6be0e86a3a",
   "metadata": {},
   "outputs": [],
   "source": []
  }
 ],
 "metadata": {
  "kernelspec": {
   "display_name": "Python 3 (ipykernel)",
   "language": "python",
   "name": "python3"
  },
  "language_info": {
   "codemirror_mode": {
    "name": "ipython",
    "version": 3
   },
   "file_extension": ".py",
   "mimetype": "text/x-python",
   "name": "python",
   "nbconvert_exporter": "python",
   "pygments_lexer": "ipython3",
   "version": "3.12.1"
  }
 },
 "nbformat": 4,
 "nbformat_minor": 5
}
