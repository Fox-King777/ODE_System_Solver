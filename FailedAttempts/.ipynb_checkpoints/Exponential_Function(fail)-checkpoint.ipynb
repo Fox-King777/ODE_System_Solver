{
 "cells": [
  {
   "cell_type": "markdown",
   "id": "bffbae8b-13e8-42c8-ac92-34b099660093",
   "metadata": {},
   "source": [
    "# dy/dx = y"
   ]
  },
  {
   "cell_type": "code",
   "execution_count": null,
   "id": "4af02d72-6c84-4fbb-ab8a-5e6b84e6462e",
   "metadata": {},
   "outputs": [],
   "source": [
    "from torchdyn.core import NeuralODE\n",
    "from torchdyn.datasets import *\n",
    "from torchdyn import *\n",
    "\n",
    "%load_ext autoreload\n",
    "%autoreload 2\n",
    "\n",
    "# quick run for automated notebook validation\n",
    "dry_run = False"
   ]
  },
  {
   "cell_type": "markdown",
   "id": "f3d058c8-b71c-4b8b-9679-355e96388c0e",
   "metadata": {},
   "source": [
    "## Generating Data"
   ]
  },
  {
   "cell_type": "code",
   "execution_count": null,
   "id": "ad26feef-a078-4d3a-b69e-052f7cd316c2",
   "metadata": {},
   "outputs": [],
   "source": [
    "x = torch.Tensor([[a] for a in torch.linspace(-20, 20, 81)])\n",
    "y = torch.exp(x.flatten())\n",
    "#print(x)\n",
    "#print(y)"
   ]
  },
  {
   "cell_type": "code",
   "execution_count": null,
   "id": "c3434a02-57ce-40cd-b74a-981b95decf0e",
   "metadata": {},
   "outputs": [],
   "source": [
    "import torch\n",
    "import torch.utils.data as data\n",
    "\n",
    "device = torch.device(\"cpu\")\n",
    "\n",
    "x_train = torch.Tensor(x).to(device)\n",
    "y_train = torch.Tensor(y.to(device))\n",
    "train = data.TensorDataset(x_train, y_train)\n",
    "trainloader = data.DataLoader(train, batch_size=len(x), shuffle=True)"
   ]
  },
  {
   "cell_type": "markdown",
   "id": "f9dc963c-a746-45fc-b8d8-2b141296a610",
   "metadata": {},
   "source": [
    "## Learner"
   ]
  },
  {
   "cell_type": "code",
   "execution_count": null,
   "id": "e601f489-869a-43e6-9ed0-412fbb882bcd",
   "metadata": {},
   "outputs": [],
   "source": [
    "import torch.nn as nn\n",
    "import pytorch_lightning as pl\n",
    "\n",
    "class Exponential_Learner(pl.LightningModule):\n",
    "    def __init__(self, t_span:torch.Tensor, model:nn.Module):\n",
    "        super().__init__()\n",
    "        self.model, self.t_span = model, t_span\n",
    "\n",
    "    # one entire forward pass of the NN\n",
    "    def forward(self, x):\n",
    "        return self.model(x)\n",
    "\n",
    "    def training_step(self, batch, batch_idx):\n",
    "        x, y = batch      \n",
    "        t_eval, y_hat = self.model(x, self.t_span)\n",
    "        y_hat = y_hat[-1] # select last point of solution trajectory\n",
    "        loss = nn.MSELoss()(y_hat, y)\n",
    "        return {'loss': loss}   \n",
    "    \n",
    "    def configure_optimizers(self):\n",
    "        return torch.optim.Adam(self.model.parameters(), lr=0.01)\n",
    "\n",
    "    def train_dataloader(self):\n",
    "        return trainloader"
   ]
  },
  {
   "cell_type": "markdown",
   "id": "b4ca4b38-1969-4a8e-ba1e-5ac6f1bfbea3",
   "metadata": {},
   "source": [
    "## Train"
   ]
  },
  {
   "cell_type": "code",
   "execution_count": null,
   "id": "33796775-f54b-42fd-bae2-3f23d9a65465",
   "metadata": {},
   "outputs": [],
   "source": [
    "f = nn.Sequential(\n",
    "        nn.Linear(1, 16),\n",
    "        nn.ELU(),\n",
    "        nn.Linear(16, 1)\n",
    "        nn.ELU()\n",
    "        nn.Linear(1, 16\n",
    "        nn.ELU(),\n",
    "        nn.Linear(16, 1)\n",
    "    )\n",
    "\n",
    "model = NeuralODE(f, sensitivity='adjoint', solver='rk4', solver_adjoint='dopri5', atol_adjoint=1e-4, rtol_adjoint=1e-4).to(device)"
   ]
  },
  {
   "cell_type": "code",
   "execution_count": null,
   "id": "946b3537-844b-4d48-900f-c02d060c6c2e",
   "metadata": {},
   "outputs": [],
   "source": [
    "t_span = torch.linspace(0,1,100)\n",
    "learn = Exponential_Learner(t_span, model)\n",
    "if dry_run: trainer = pl.Trainer(min_epochs=1, max_epochs=1)\n",
    "else: trainer = pl.Trainer(min_epochs=200, max_epochs=300)\n",
    "trainer.fit(learn)"
   ]
  },
  {
   "cell_type": "markdown",
   "id": "51d80ac0-43a1-4400-813e-11ee009315f1",
   "metadata": {},
   "source": [
    "## Plot Results"
   ]
  },
  {
   "cell_type": "code",
   "execution_count": null,
   "id": "97916efd-7c41-4f97-aabf-33ca882c7a82",
   "metadata": {},
   "outputs": [],
   "source": [
    "t_eval, trajectory = model(x_train, t_span)\n",
    "trajectory = trajectory.detach().cpu()"
   ]
  },
  {
   "cell_type": "code",
   "execution_count": null,
   "id": "241d157d-401b-40ea-bc2d-79e8141cd282",
   "metadata": {},
   "outputs": [],
   "source": [
    "import matplotlib.pyplot as plt\n",
    "\n",
    "fig = plt.figure(figsize=(5,5))\n",
    "ax0 = fig.add_subplot(111)\n",
    "for i in range(81):\n",
    "    ax0.plot(t_span, trajectory[:,i], color='black', alpha=.1);"
   ]
  },
  {
   "cell_type": "code",
   "execution_count": null,
   "id": "09a20fb2-b89a-477e-b480-f127214a437b",
   "metadata": {},
   "outputs": [],
   "source": [
    "fig = plt.figure(figsize=(5,5))\n",
    "ax = fig.add_subplot(111)\n",
    "ax.plot(trajectory[0, :], trajectory[-1, :], color='black');"
   ]
  },
  {
   "cell_type": "code",
   "execution_count": null,
   "id": "9b4241d7-b17e-4ffd-b8b9-fd92df43507e",
   "metadata": {},
   "outputs": [],
   "source": [
    "print(len(trajectory[0]))\n",
    "for i in range(len(trajectory[0])):\n",
    "    print(\"x: \" + str(trajectory[0][i].item()) + \" y_guess: \" + str(trajectory[-1][i].item()) + \" y: \" + str(y[i]))"
   ]
  },
  {
   "cell_type": "code",
   "execution_count": null,
   "id": "41460da4-c961-4d44-a4a5-1b4b9e19b121",
   "metadata": {},
   "outputs": [],
   "source": []
  }
 ],
 "metadata": {
  "kernelspec": {
   "display_name": "Python 3 (ipykernel)",
   "language": "python",
   "name": "python3"
  },
  "language_info": {
   "codemirror_mode": {
    "name": "ipython",
    "version": 3
   },
   "file_extension": ".py",
   "mimetype": "text/x-python",
   "name": "python",
   "nbconvert_exporter": "python",
   "pygments_lexer": "ipython3",
   "version": "3.12.1"
  }
 },
 "nbformat": 4,
 "nbformat_minor": 5
}
