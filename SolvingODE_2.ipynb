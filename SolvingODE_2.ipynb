{
 "cells": [
  {
   "cell_type": "code",
   "execution_count": 2,
   "id": "32c265b5-5188-4d29-9faa-e5f38d459f1d",
   "metadata": {},
   "outputs": [],
   "source": [
    "import torch, torch.nn as nn, torch.utils.data as data, torch.nn.functional as F\n",
    "from torch.autograd import grad\n",
    "import lightning as L\n",
    "import numpy as np\n",
    "import matplotlib.pyplot as plt"
   ]
  },
  {
   "cell_type": "code",
   "execution_count": 106,
   "id": "9c07a15c-45b9-47e5-9c76-843d4a0ebac7",
   "metadata": {},
   "outputs": [],
   "source": [
    "class ODE_Learner(L.LightningModule):\n",
    "    def __init__(self, init_condition, gamma):\n",
    "        super().__init__()\n",
    "\n",
    "        self.model = nn.Sequential(\n",
    "            nn.Linear(1, 10),\n",
    "            nn.Sigmoid(),\n",
    "            nn.Linear(10, 1)\n",
    "        )\n",
    "\n",
    "        self.init_condition = init_condition\n",
    "        self.gamma = gamma\n",
    "\n",
    "    def forward(self, x):\n",
    "        return self.model(x)\n",
    "\n",
    "    def configure_optimizers(self):\n",
    "        return torch.optim.Adam(self.parameters(), lr=0.0005)\n",
    "\n",
    "    def g(self, x, g_t):\n",
    "        return self.gamma * g_t\n",
    "\n",
    "    def g_trial(self, x):\n",
    "        return self.init_condition + x * self.forward(x)\n",
    "\n",
    "    def training_step(self, batch, batch_idx):\n",
    "        x, _ = batch\n",
    "        x.requires_grad = True\n",
    "        g_t = self.g_trial(x)\n",
    "        sol = self.g(x, g_t)\n",
    "        dgt_dx = torch.autograd.grad(retain_graph=True, outputs=g_t, \n",
    "                                     inputs=x, \n",
    "                                     grad_outputs=torch.Tensor([[1] for i in range(len(x))]))[0]\n",
    "\n",
    "        loss = nn.MSELoss()(dgt_dx, sol)\n",
    "        self.log(\"train_loss\", loss, prog_bar=True, on_step=True, on_epoch=True)\n",
    "        return loss"
   ]
  },
  {
   "cell_type": "code",
   "execution_count": 107,
   "id": "00f25c1d-e57e-49d8-842b-4ae70e99985f",
   "metadata": {},
   "outputs": [],
   "source": [
    "class Dataset(data.Dataset):\n",
    "\n",
    "    def __init__(self, init, end, n):\n",
    "\n",
    "        self.n = n\n",
    "        self.x = torch.linspace(init, end, self.n)\n",
    "        self.y = 10*np.exp(2*self.x)\n",
    "\n",
    "    def __len__(self):\n",
    "\n",
    "        return self.n\n",
    "\n",
    "    def __getitem__(self, idx):\n",
    "\n",
    "        x = self.x[idx, np.newaxis]\n",
    "        y = self.y[idx, np.newaxis]\n",
    "\n",
    "        return torch.Tensor(x), torch.Tensor(y)"
   ]
  },
  {
   "cell_type": "code",
   "execution_count": 108,
   "id": "1d637546-87e6-4aa9-8e23-b96b09d85cd6",
   "metadata": {},
   "outputs": [
    {
     "name": "stderr",
     "output_type": "stream",
     "text": [
      "GPU available: False, used: False\n",
      "TPU available: False, using: 0 TPU cores\n",
      "IPU available: False, using: 0 IPUs\n",
      "HPU available: False, using: 0 HPUs\n",
      "\n",
      "  | Name  | Type       | Params\n",
      "-------------------------------------\n",
      "0 | model | Sequential | 31    \n",
      "-------------------------------------\n",
      "31        Trainable params\n",
      "0         Non-trainable params\n",
      "31        Total params\n",
      "0.000     Total estimated model params size (MB)\n"
     ]
    },
    {
     "data": {
      "application/vnd.jupyter.widget-view+json": {
       "model_id": "1c1f3d264317439aa38a016150ca7cb8",
       "version_major": 2,
       "version_minor": 0
      },
      "text/plain": [
       "Training: |                                                                                      | 0/? [00:00<…"
      ]
     },
     "metadata": {},
     "output_type": "display_data"
    }
   ],
   "source": [
    "train = Dataset(0, 1, 50)\n",
    "\n",
    "trainer = L.Trainer(logger=False, max_epochs=10000)\n",
    "learner = ODE_Learner(10, 2)\n",
    "trainer.fit(learner, data.DataLoader(train, batch_size=10))"
   ]
  },
  {
   "cell_type": "code",
   "execution_count": 74,
   "id": "2db5a2dd-7de6-4c90-b91f-1a7a59596e2f",
   "metadata": {},
   "outputs": [
    {
     "data": {
      "text/plain": [
       "<matplotlib.collections.PathCollection at 0x1d989244a10>"
      ]
     },
     "execution_count": 74,
     "metadata": {},
     "output_type": "execute_result"
    },
    {
     "data": {
      "image/png": "[encoded data removed]",
      "text/plain": [
       "<Figure size 1000x500 with 2 Axes>"
      ]
     },
     "metadata": {},
     "output_type": "display_data"
    }
   ],
   "source": [
    "y = learner.model.forward(train.x.view(50, 1))\n",
    "y = y.detach().cpu()\n",
    "fig = plt.figure(figsize=(10,5))\n",
    "ax = fig.add_subplot(121)\n",
    "\n",
    "ax.scatter(train.x, 10 + train.x * y.flatten(), color='black')\n",
    "\n",
    "ax1 = fig.add_subplot(122)\n",
    "ax1.scatter(train.x, train.y)"
   ]
  },
  {
   "cell_type": "code",
   "execution_count": null,
   "id": "764f4855-1f4c-4d8d-a29d-c19ed9a0bd9d",
   "metadata": {},
   "outputs": [],
   "source": []
  }
 ],
 "metadata": {
  "kernelspec": {
   "display_name": "Python 3 (ipykernel)",
   "language": "python",
   "name": "python3"
  },
  "language_info": {
   "codemirror_mode": {
    "name": "ipython",
    "version": 3
   },
   "file_extension": ".py",
   "mimetype": "text/x-python",
   "name": "python",
   "nbconvert_exporter": "python",
   "pygments_lexer": "ipython3",
   "version": "3.12.1"
  }
 },
 "nbformat": 4,
 "nbformat_minor": 5
}
