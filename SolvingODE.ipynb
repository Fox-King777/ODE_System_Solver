{
 "cells": [
  {
   "cell_type": "code",
   "execution_count": 6,
   "id": "786e8dd9-d8fa-43ec-b72f-4e9df9d5257b",
   "metadata": {},
   "outputs": [],
   "source": [
    "import autograd.numpy as np\n",
    "from autograd import grad, elementwise_grad\n",
    "import autograd.numpy.random as npr\n",
    "from matplotlib import pyplot as plt\n",
    "\n",
    "def sigmoid(z):\n",
    "    return 1/(1 + np.exp(-z))\n",
    "\n",
    "# The trial solution using the deep neural network:\n",
    "def g_trial(x,params, g0 = 10):\n",
    "    return g0 + x*neural_network(params,x)\n",
    "\n",
    "# The right side of the ODE:\n",
    "def g(x, g_trial, gamma = 2):\n",
    "    # return gamma*g_trial\n",
    "    # 2 * x\n",
    "    return 3 * x**2\n",
    "\n",
    "# The cost function:\n",
    "def cost_function(P, x):\n",
    "    # Evaluate the trial function with the current parameters P\n",
    "    g_t = g_trial(x,P)\n",
    "\n",
    "    # Find the derivative w.r.t x of the trial function\n",
    "    d_g_t = elementwise_grad(g_trial,0)(x,P)\n",
    "    \n",
    "    # The right side of the ODE\n",
    "    func = g(x, g_t)\n",
    "\n",
    "    err_sqr = (d_g_t - func)**2\n",
    "    cost_sum = np.sum(err_sqr)\n",
    "\n",
    "    return cost_sum / np.size(err_sqr)\n",
    "\n",
    "def g_analytic(x, gamma = 2, g0 = 10):\n",
    "    # return g0*np.exp(gamma*x)\n",
    "    # return g0 + x**2\n",
    "    return g0 + x**3"
   ]
  },
  {
   "cell_type": "code",
   "execution_count": 7,
   "id": "d6408317-b58d-4193-bd63-604dd97b437d",
   "metadata": {},
   "outputs": [],
   "source": [
    "# Assuming one input, hidden, and output layer\n",
    "def neural_network(params, x):\n",
    "    # Find the weights (including and biases) for the hidden and output layer.\n",
    "    # Assume that params is a list of parameters for each layer.\n",
    "    # The biases are the first element for each array in params,\n",
    "    # and the weights are the remaning elements in each array in params.\n",
    "\n",
    "    w_hidden = params[0]\n",
    "    w_output = params[1]\n",
    "    # Assumes input x being an one-dimensional array\n",
    "    num_values = np.size(x)\n",
    "    x = x.reshape(-1, num_values)\n",
    "\n",
    "    # Assume that the input layer does nothing to the input x\n",
    "    x_input = x\n",
    "\n",
    "    ## Hidden layer:\n",
    "\n",
    "    # Add a row of ones to include bias\n",
    "    x_input = np.concatenate((np.ones((1, num_values)), x_input), axis = 0)\n",
    "\n",
    "    z_hidden = np.matmul(w_hidden, x_input)\n",
    "    x_hidden = sigmoid(z_hidden)\n",
    "\n",
    "    ## Output layer:\n",
    "\n",
    "    # Include bias:\n",
    "    x_hidden = np.concatenate((np.ones((1,num_values)), x_hidden ), axis = 0)\n",
    "\n",
    "    z_output = np.matmul(w_output, x_hidden)\n",
    "    x_output = z_output\n",
    "\n",
    "    return x_output\n",
    "\n",
    "def solve_ode_neural_network(x, num_neurons_hidden, num_iter, lmb):\n",
    "    ## Set up initial weights and biases\n",
    "\n",
    "    # For the hidden layer\n",
    "    p0 = npr.randn(num_neurons_hidden, 2 )\n",
    "\n",
    "    # For the output layer\n",
    "    p1 = npr.randn(1, num_neurons_hidden + 1 ) # +1 since bias is included\n",
    "\n",
    "    P = [p0, p1]\n",
    "\n",
    "    print('Initial cost: %g'%cost_function(P, x))\n",
    "\n",
    "    ## Start finding the optimal weights using gradient descent\n",
    "\n",
    "    # Find the Python function that represents the gradient of the cost function\n",
    "    # w.r.t the 0-th input argument -- that is the weights and biases in the hidden and output layer\n",
    "    cost_function_grad = grad(cost_function,0)\n",
    "\n",
    "    # Let the update be done num_iter times\n",
    "    for i in range(num_iter):\n",
    "        # Evaluate the gradient at the current weights and biases in P.\n",
    "        # The cost_grad consist now of two arrays;\n",
    "        # one for the gradient w.r.t P_hidden and\n",
    "        # one for the gradient w.r.t P_output\n",
    "        cost_grad =  cost_function_grad(P, x)\n",
    "\n",
    "        P[0] = P[0] - lmb * cost_grad[0]\n",
    "        P[1] = P[1] - lmb * cost_grad[1]\n",
    "\n",
    "    print('Final cost: %g'%cost_function(P, x))\n",
    "\n",
    "    return P"
   ]
  },
  {
   "cell_type": "code",
   "execution_count": 8,
   "id": "09cc7379-6583-41e8-86da-c853925506ae",
   "metadata": {},
   "outputs": [
    {
     "name": "stdout",
     "output_type": "stream",
     "text": [
      "Initial cost: 22.9183\n",
      "Final cost: 0.226927\n",
      "Max absolute difference: 0.194888\n"
     ]
    }
   ],
   "source": [
    "# Set seed such that the weight are initialized\n",
    "# with same weights and biases for every run.\n",
    "npr.seed(15)\n",
    "\n",
    "## Decide the vales of arguments to the function to solve\n",
    "N = 50\n",
    "x = np.linspace(0, 2, N)\n",
    "\n",
    "## Set up the initial parameters\n",
    "num_hidden_neurons = 10\n",
    "num_iter = 10000\n",
    "lmb = 0.001\n",
    "\n",
    "# Use the network\n",
    "P = solve_ode_neural_network(x, num_hidden_neurons, num_iter, lmb)\n",
    "\n",
    "# Print the deviation from the trial solution and true solution\n",
    "res = g_trial(x,P)\n",
    "res_analytical = g_analytic(x)\n",
    "\n",
    "print('Max absolute difference: %g'%np.max(np.abs(res - res_analytical)))"
   ]
  },
  {
   "cell_type": "code",
   "execution_count": 9,
   "id": "311b29bf-8d8b-4600-9483-da342b3e2769",
   "metadata": {},
   "outputs": [
    {
     "data": {
      "image/png": "[encoded data removed]",
      "text/plain": [
       "<Figure size 500x500 with 1 Axes>"
      ]
     },
     "metadata": {},
     "output_type": "display_data"
    }
   ],
   "source": [
    "    # Plot the results\n",
    "    plt.figure(figsize=(5,5))\n",
    "\n",
    "    plt.plot(x, res_analytical)\n",
    "    plt.plot(x, res[0,:])\n",
    "    plt.legend(['analytical','nn'])\n",
    "    plt.xlabel('x')\n",
    "    plt.ylabel('g(x)')\n",
    "    plt.show()"
   ]
  },
  {
   "cell_type": "code",
   "execution_count": 347,
   "id": "760ff493-66fb-4164-87ed-b73162667751",
   "metadata": {},
   "outputs": [
    {
     "name": "stdout",
     "output_type": "stream",
     "text": [
      "[[12.03120278]]\n",
      "[12.25]\n"
     ]
    }
   ],
   "source": [
    "print(g_trial(np.array([1.5]), P))\n",
    "print(g_analytic(np.array([1.5])))"
   ]
  },
  {
   "cell_type": "code",
   "execution_count": 453,
   "id": "cb10f9bf-13fe-4aba-8a76-41d1c92fe40f",
   "metadata": {},
   "outputs": [],
   "source": [
    "import torch, torch.nn as nn, torch.utils.data as data, torch.nn.functional as F\n",
    "from torch.autograd import grad\n",
    "import lightning as L\n",
    "import numpy as np\n",
    "\n",
    "\n",
    "class Learner(L.LightningModule):\n",
    "    def __init__(self, model, init_condition):\n",
    "        super().__init__()\n",
    "        self.model = model\n",
    "        self.init_condition = init_condition\n",
    "\n",
    "    def forward(self, x):\n",
    "        return self.model(x);\n",
    "    \n",
    "    def g(self, x, g_trial, gamma = 2):\n",
    "        # return 2 * x\n",
    "        return gamma * g_trial\n",
    "    \n",
    "    def training_step(self, batch, batch_idx):\n",
    "        x, _ = batch\n",
    "        x.requires_grad = True\n",
    "        x.inference = True\n",
    "\n",
    "        g_trial = self.init_condition + x * self.model(x)\n",
    "        trial_sol = self.g(x, g_trial)\n",
    "\n",
    "        g_trial.backward(retain_graph=True, gradient=torch.Tensor([[1] for i in range(10)]))\n",
    "        d_g_trial = x.grad\n",
    "        #d_g_trial = torch.Tensor([[3] for i in range(10)])\n",
    "        #print(d_g_trial)\n",
    "        #print(trial_sol)\n",
    "        \n",
    "        loss = nn.MSELoss()(d_g_trial, trial_sol)\n",
    "        self.log(\"train_loss\", loss, prog_bar=True, on_step=True, on_epoch=True)\n",
    "        #print(loss.item())\n",
    "        return loss\n",
    "\n",
    "    def configure_optimizers(self):\n",
    "        return torch.optim.Adam(self.parameters())"
   ]
  },
  {
   "cell_type": "code",
   "execution_count": 454,
   "id": "ae26c52c-9bab-4745-968d-10a1378aee7e",
   "metadata": {},
   "outputs": [],
   "source": [
    "class Dataset(data.Dataset):\n",
    "\n",
    "    def __init__(self, init, end, n):\n",
    "\n",
    "        self.n = n\n",
    "        self.x = torch.linspace(init, end, self.n)\n",
    "        self.y = 10*np.exp(2*x)\n",
    "        #self.y = 10 + x**2\n",
    "\n",
    "    def __len__(self):\n",
    "\n",
    "        return self.n\n",
    "\n",
    "    def __getitem__(self, idx):\n",
    "\n",
    "        x = self.x[idx, np.newaxis]\n",
    "        y = self.y[idx, np.newaxis]\n",
    "\n",
    "        return torch.Tensor(x), torch.Tensor(y)"
   ]
  },
  {
   "cell_type": "code",
   "execution_count": 455,
   "id": "999f5004-4a8c-4fd2-a464-891f61c6cc47",
   "metadata": {},
   "outputs": [],
   "source": [
    "net = nn.Sequential(\n",
    "        nn.Linear(1, 10),\n",
    "        nn.Sigmoid(),\n",
    "        nn.Linear(10, 1)\n",
    "    )"
   ]
  },
  {
   "cell_type": "code",
   "execution_count": 465,
   "id": "9a60a3cd-e7f2-4fa8-ad29-2659aad255f0",
   "metadata": {},
   "outputs": [
    {
     "name": "stderr",
     "output_type": "stream",
     "text": [
      "GPU available: False, used: False\n",
      "TPU available: False, using: 0 TPU cores\n",
      "IPU available: False, using: 0 IPUs\n",
      "HPU available: False, using: 0 HPUs\n",
      "\n",
      "  | Name  | Type       | Params\n",
      "-------------------------------------\n",
      "0 | model | Sequential | 31    \n",
      "-------------------------------------\n",
      "31        Trainable params\n",
      "0         Non-trainable params\n",
      "31        Total params\n",
      "0.000     Total estimated model params size (MB)\n"
     ]
    },
    {
     "data": {
      "application/vnd.jupyter.widget-view+json": {
       "model_id": "c5949056c74f4fcfbe5b5647b5c03001",
       "version_major": 2,
       "version_minor": 0
      },
      "text/plain": [
       "Training: |                                                                                      | 0/? [00:00<…"
      ]
     },
     "metadata": {},
     "output_type": "display_data"
    }
   ],
   "source": [
    "train = Dataset(0, 1, 50)\n",
    "\n",
    "trainer = L.Trainer(logger=False, max_epochs=10000)\n",
    "learner = Learner(net, 10)\n",
    "trainer.fit(learner, data.DataLoader(train, batch_size=10))"
   ]
  },
  {
   "cell_type": "code",
   "execution_count": 466,
   "id": "7b1e8829-ca04-4dfb-8e55-7b1c1553a4ea",
   "metadata": {},
   "outputs": [
    {
     "data": {
      "text/plain": [
       "<matplotlib.collections.PathCollection at 0x2074c41a3f0>"
      ]
     },
     "execution_count": 466,
     "metadata": {},
     "output_type": "execute_result"
    },
    {
     "data": {
      "image/png": "[encoded data removed]",
      "text/plain": [
       "<Figure size 1000x500 with 2 Axes>"
      ]
     },
     "metadata": {},
     "output_type": "display_data"
    }
   ],
   "source": [
    "import matplotlib.pyplot as plt\n",
    "\n",
    "y = learner.model.forward(train.x.view(50, 1))\n",
    "y = y.detach().cpu()\n",
    "fig = plt.figure(figsize=(10,5))\n",
    "ax = fig.add_subplot(121)\n",
    "\n",
    "ax.scatter(train.x, 10 + train.x * y.flatten(), color='black')\n",
    "\n",
    "ax1 = fig.add_subplot(122)\n",
    "ax1.scatter(train.x, train.y)"
   ]
  },
  {
   "cell_type": "code",
   "execution_count": 467,
   "id": "fd19be14-e06b-4f97-b7e4-f49a8ad7f1e3",
   "metadata": {},
   "outputs": [
    {
     "name": "stdout",
     "output_type": "stream",
     "text": [
      "None tensor([[2.8048],\n",
      "        [1.8697],\n",
      "        [2.8859],\n",
      "        [2.9152],\n",
      "        [2.5817],\n",
      "        [2.4868],\n",
      "        [3.2149],\n",
      "        [2.0776],\n",
      "        [3.6337],\n",
      "        [1.9468]])\n",
      "None tensor([3.5508, 1.7747, 4.0517, 2.4727, 3.8359, 3.3484, 3.2382, 2.0984, 3.4194,\n",
      "        2.7092])\n",
      "None tensor([[-3.1192, -2.8742, -2.9642, -3.0324, -3.1005, -3.1995, -3.1107, -2.8146,\n",
      "         -3.0350, -2.8164]])\n",
      "None tensor([-2.9277])\n"
     ]
    }
   ],
   "source": [
    "for p in learner.model.parameters():\n",
    "    if p.requires_grad:\n",
    "        print(p.name, p.data)"
   ]
  },
  {
   "cell_type": "code",
   "execution_count": null,
   "id": "8890748e-2d76-4d3a-bb38-5dae6d620237",
   "metadata": {},
   "outputs": [],
   "source": []
  },
  {
   "cell_type": "code",
   "execution_count": null,
   "id": "32427254-3229-43a6-8d7f-f8195e2ed072",
   "metadata": {},
   "outputs": [],
   "source": []
  }
 ],
 "metadata": {
  "kernelspec": {
   "display_name": "Python 3 (ipykernel)",
   "language": "python",
   "name": "python3"
  },
  "language_info": {
   "codemirror_mode": {
    "name": "ipython",
    "version": 3
   },
   "file_extension": ".py",
   "mimetype": "text/x-python",
   "name": "python",
   "nbconvert_exporter": "python",
   "pygments_lexer": "ipython3",
   "version": "3.12.1"
  }
 },
 "nbformat": 4,
 "nbformat_minor": 5
}
