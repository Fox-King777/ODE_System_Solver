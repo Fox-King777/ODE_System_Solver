{
 "cells": [
  {
   "cell_type": "markdown",
   "metadata": {},
   "source": [
    "### Differential Equation\n",
    "\n",
    "$\\frac{\\mathrm{d}\\Psi_1}{\\mathrm{d}x} = cos(x) + \\Psi_1^2 + \\Psi_2 - (1 + x^2 + sin^2(x)),$\n",
    "\n",
    "$\\frac{\\mathrm{d}\\Psi_2}{\\mathrm{d}x} = 2x - (1 - x^2)sin(x) + \\Psi_1\\Psi_2,$\n",
    "\n",
    "$\\Psi_1(0) = 0, \\Psi_2(0) = 1, x \\in [0, 3]$"
   ]
  },
  {
   "cell_type": "code",
   "execution_count": 25,
   "metadata": {},
   "outputs": [],
   "source": [
    "from typing import List, Tuple, Callable\n",
    "import autograd.numpy as np\n",
    "from autograd import grad, elementwise_grad\n",
    "from matplotlib import pyplot as plt\n",
    "import seaborn as sns"
   ]
  },
  {
   "cell_type": "code",
   "execution_count": 16,
   "metadata": {},
   "outputs": [],
   "source": [
    "PSI_0 = np.array([0, 1])\n",
    "\n",
    "def derivative(x, psi) -> np.ndarray:\n",
    "    \"\"\"Example #4 derivative.\n",
    "    Args:\n",
    "        x: The input vector\n",
    "        psi: The function vector\n",
    "\n",
    "    Returns:\n",
    "        Value of psi's partial derivatives at x.\n",
    "    \"\"\"\n",
    "    psi_1_dot = np.cos(x) + psi[0]**2 + psi[1] - (1 + x**2 + np.sin(x)**2)\n",
    "    psi_2_dot = 2 * x - (1 - x**2) * np.sin(x) + psi[0] * psi[1] \n",
    "    return np.array([psi_1_dot, psi_2_dot])\n",
    "\n",
    "def analytical_solution(x):\n",
    "    \"\"\"Analytical solution to example #4.\n",
    "    Args:\n",
    "        x: The input vector\n",
    "\n",
    "    Returns:\n",
    "        Value of psi at x.\n",
    "    \"\"\"\n",
    "    psi_1 = np.sin(x)\n",
    "    psi_2 = 1 + x**2\n",
    "\n",
    "    return np.array([psi_1, psi_2])"
   ]
  },
  {
   "cell_type": "markdown",
   "metadata": {},
   "source": [
    "### Activation Functions"
   ]
  },
  {
   "cell_type": "code",
   "execution_count": 4,
   "metadata": {},
   "outputs": [],
   "source": [
    "def sigmoid(z):\n",
    "    return 1 / (1 + np.exp(-z))\n",
    "\n",
    "def tanh(z):\n",
    "    return (np.exp(z) - np.exp(-z)) / (np.exp(z) + np.exp(-z))"
   ]
  },
  {
   "cell_type": "markdown",
   "metadata": {},
   "source": [
    "### Neural Network"
   ]
  },
  {
   "cell_type": "markdown",
   "metadata": {},
   "source": [
    "![](NN.png \"Neural Network\")"
   ]
  },
  {
   "cell_type": "code",
   "execution_count": 124,
   "metadata": {},
   "outputs": [],
   "source": [
    "class NeuralNetwork:\n",
    "    \"\"\"A neural network class for solving ODEs. Can be combine with other neural networks to solve system of ODEs.\n",
    "        Attributes:\n",
    "            init_condition (float): Initial condition for the target function.\n",
    "            derivative (Callable): Function that calculates the target derivative of the neural network.\n",
    "            input_size (int): Size of the input layer.\n",
    "            hidden_sizes (np.array): Array of integers representing the sizes of the hidden layers.\n",
    "            output_size (int): Size of the output layer.\n",
    "            activation_fns (List[Callable]): List of activation functions for each layer.\n",
    "            weights (List[np.array]): List of weights and biases for each layer.\n",
    "\n",
    "        Methods:\n",
    "            init_weights(): Initializes the weights and biases of the neural network.\n",
    "            forward(t: np.array, weights: List[np.array]) -> np.array: Makes a forward pass through the neural network.\n",
    "            trial_solution(t: np.array, weights: List[np.array]) -> np.ndarray: Calculates the trial solution.\n",
    "            elementwise_trial_solution(t: np.array, weights: List[np.array]) -> np.ndarray: Calculates the trial solution elementwise.\n",
    "            trial_grad(t: np.array, weights: List[np.array]) -> np.array: Calculates the gradient of the trial solution with respect to t.\n",
    "    \"\"\"\n",
    "    def __init__(self, init_condition: np.array, derivative: Callable, input_size: int, hidden_sizes: np.array, output_size: int, activation_fns: List[Callable]):\n",
    "        self.init_condition = init_condition\n",
    "        self.derivative = derivative\n",
    "        self.input_size = input_size\n",
    "        self.hidden_sizes = hidden_sizes\n",
    "        self.output_size = output_size\n",
    "        self.activation_fns = activation_fns\n",
    "        self.weights = [None] * (hidden_sizes.shape[0] + 1) # +1 for the output\n",
    "        self.init_weights()\n",
    "\n",
    "    def init_weights(self):\n",
    "        \"\"\" Initializes the weights and biases of the neural network \n",
    "        Args:\n",
    "            None\n",
    "        \n",
    "        Returns:\n",
    "            None\n",
    "        \"\"\"\n",
    "        # hidden weights and biases\n",
    "        self.weights[0] = np.random.randn(self.hidden_sizes[0], self.input_size + 1) # +1 for the bias\n",
    "        for i in range(1, self.hidden_sizes.shape[0]):\n",
    "            self.weights[i] = np.random.randn(self.hidden_sizes[i], self.hidden_sizes[i - 1] + 1) # +1 for the bias\n",
    "\n",
    "        # output weights and biases\n",
    "        self.weights[-1] = np.random.randn(self.output_size, self.hidden_sizes[-1] + 1) # +1 for the bias\n",
    "\n",
    "    def forward(self, t: np.array, weights: List[np.array]) -> np.array:\n",
    "        \"\"\"Makes a forward pass through the neural network.\n",
    "\n",
    "        Args:\n",
    "            t: The t vector\n",
    "            weights: The weights and biases of the neural network\n",
    "        \n",
    "        Returns:\n",
    "            A NumPy array of the output of the neural network of dim(self.output_size, len(t)).\n",
    "        \"\"\"\n",
    "        num_layers = len(weights)\n",
    "        # row matrix\n",
    "        t = t.reshape(-1, t.size)\n",
    "\n",
    "        z = None\n",
    "        a = t\n",
    "        for i in range(num_layers):\n",
    "            z = np.matmul(weights[i], np.concatenate((np.ones((1, t.size)), a), axis = 0))\n",
    "            a = self.activation_fns[i](z)\n",
    "        return z\n",
    "\n",
    "    def trial_solution(self, t: np.array, weights: List[np.array]) -> np.ndarray:\n",
    "        \"\"\"Calculates the trial solution of the system of ODEs.\n",
    "        \n",
    "        Args:\n",
    "            t: The input vector\n",
    "            weights: The weights and biases of the neural network\n",
    "        \n",
    "        Returns:\n",
    "            A NumPy array of the trial solution of the system of ODEs\n",
    "            dimension (len(t),)\n",
    "        \"\"\"\n",
    "        fp = self.forward(t, weights).reshape(t.size)\n",
    "        return self.init_condition + t * fp\n",
    "\n",
    "    def trial_grad(self, t: np.array, weights: List[np.array]) -> np.array:\n",
    "        \"\"\"Calculates the gradient of the trial solution of the Lorentz System.\n",
    "        \n",
    "        Args:\n",
    "            t: The input vector\n",
    "            weights: The weights and biases of the neural network\n",
    "        \n",
    "        Returns:\n",
    "            A NumPy array of the gradient of the trial solution of the Lorentz System with \n",
    "            dimension (len(t),)\n",
    "        \"\"\"\n",
    "        return elementwise_grad(self.trial_solution, 0)(t, weights)"
   ]
  },
  {
   "cell_type": "markdown",
   "metadata": {},
   "source": [
    "### Loss Function"
   ]
  },
  {
   "cell_type": "code",
   "execution_count": 125,
   "metadata": {},
   "outputs": [],
   "source": [
    "def mse_loss_function(t: np.array, neural_networks: List[NeuralNetwork], weights_list: List[List[np.array]]) -> List[float]:\n",
    "    \"\"\"Calculates the mean squared error a list of neural network.\n",
    "\n",
    "    Args:\n",
    "        t: The input vector\n",
    "        neural_networks: A list of neural networks\n",
    "\n",
    "    Returns:\n",
    "        Mean squared error value\n",
    "    \"\"\"\n",
    "    loss = [None] * len(neural_networks)\n",
    "    trial_sol = np.array([neural_networks[i].trial_solution(t, weights_list[i]) for i in range(len(neural_networks))])\n",
    "    \n",
    "    for i in range(len(neural_networks)):\n",
    "        grad_star = neural_networks[i].derivative(t, trial_sol)\n",
    "        grad = neural_networks[i].trial_grad(t, weights_list[i])\n",
    "        error = grad_star - grad\n",
    "        loss[i] = np.linalg.norm(error, 'fro') / np.sqrt(np.size(error))\n",
    "\n",
    "    return loss\n",
    "\n",
    "def elementwise_loss_function(t: np.array, neural_networks: List[NeuralNetwork], weights_list, index) -> float:\n",
    "    return mse_loss_function(t, neural_networks, weights_list)[index]\n"
   ]
  },
  {
   "cell_type": "markdown",
   "metadata": {},
   "source": [
    "### Optimizers"
   ]
  },
  {
   "cell_type": "code",
   "execution_count": 128,
   "metadata": {},
   "outputs": [],
   "source": [
    "def gradient_descent(t: np.array, neural_networks: List[NeuralNetwork], num_iter: int, learn_rate: float):\n",
    "    \"\"\"Runs gradient descent for a given number of iterations\n",
    "\n",
    "    Args:\n",
    "        t: The input vector\n",
    "        num_iter: The number of iterations\n",
    "        learn_rate: The learning rate\n",
    "    \n",
    "    Returns:\n",
    "        neural_networks: A list of neural networks after gradient descent\n",
    "    \"\"\"\n",
    "    loss_grad_function = grad(elementwise_loss_function, 2)\n",
    "\n",
    "    for i in range(num_iter):\n",
    "        weights_list = [neural_networks[j].weights for j in range(len(neural_networks))]\n",
    "        print(\"iteration: \", i)\n",
    "        print(mse_loss_function(t, neural_networks, weights_list))\n",
    "\n",
    "        for j in range(len(neural_networks)):\n",
    "            loss_grad = loss_grad_function(t, neural_networks, weights_list, j)\n",
    "            print(loss_grad)\n",
    "            \n",
    "            for k in range(len(neural_networks[j].weights)):\n",
    "                neural_networks[j].weights[k] = neural_networks[j].weights[k] - learn_rate * loss_grad[k]\n",
    "\n",
    "    return neural_networks\n",
    "\n",
    "def adam(self, t, grad, num_iters=10000, step_size=0.001, b1=0.9, b2=0.999, eps=10**-8):\n",
    "    loss_grad_function = grad(self.mse_loss_function, 1)\n",
    "\n",
    "    m = [np.zeros_like(self.weights[i]) for i in range(len(self.nn_weights))]\n",
    "    v = [np.zeros_like(self.weights[i]) for i in range(len(self.nn_weights))]\n",
    "    mhat = [None] * len(self.weights)\n",
    "    vhat = [None] * len(self.weights)\n",
    "    for i in range(num_iters):\n",
    "        g = loss_grad_function(t, self.weights)\n",
    "        print(\"iteration: \", i)\n",
    "        print(self.mse_loss_function(t, self.weights))\n",
    "        \n",
    "        for j in range(len(self.weights)):\n",
    "            m[j] = (1 - b1) * g[j]      + b1 * m[j]  # First  moment estimate.\n",
    "            v[j] = (1 - b2) * (g[j]**2) + b2 * v[j]  # Second moment estimate.\n",
    "            mhat[j] = m[j] / (1 - b1**(i + 1))    # Bias correction.\n",
    "            vhat[j] = v[j] / (1 - b2**(i + 1)) \n",
    "            self.weights[j] = self.weights[j] - step_size * mhat[j]/(np.sqrt(vhat[j]) + eps)\n",
    "    \n",
    "    return self.weights"
   ]
  },
  {
   "cell_type": "markdown",
   "metadata": {},
   "source": [
    "### Training"
   ]
  },
  {
   "cell_type": "code",
   "execution_count": 129,
   "metadata": {},
   "outputs": [
    {
     "name": "stdout",
     "output_type": "stream",
     "text": [
      "iteration:  0\n",
      "[30.90682259010797, 31.68538965575472]\n",
      "[[array([[ 0.12447707,  0.23708752],\n",
      "       [ 0.19598681,  0.41680654],\n",
      "       [ 2.74044349,  6.12073147],\n",
      "       [-1.84810587, -4.08136175],\n",
      "       [ 2.05050047,  4.67366487],\n",
      "       [ 0.65811266,  1.51834323],\n",
      "       [ 0.99938149,  2.15212953],\n",
      "       [ 4.3499916 ,  9.92581571],\n",
      "       [ 0.5916839 ,  1.31151439],\n",
      "       [-0.73345126, -1.58319199]]), array([[14.42992415, 14.26400534,  0.42575135,  2.13921318,  3.20855094,\n",
      "         9.03937632,  8.14049835, 12.98473021,  9.57049392, 12.5772224 ,\n",
      "         0.4206463 ]])], [array([[ 1.23225452,  2.91332117],\n",
      "       [ 0.05633861,  0.12754537],\n",
      "       [-0.05395098, -0.11962254],\n",
      "       [-0.62610492, -1.42565162],\n",
      "       [ 1.04311295,  2.47144678],\n",
      "       [-0.02538582, -0.05936785],\n",
      "       [ 1.1112802 ,  2.63812442],\n",
      "       [-0.01874053, -0.03665534],\n",
      "       [ 0.14816382,  0.33226669],\n",
      "       [-0.2724026 , -0.61232493]]), array([[6.31642166, 3.69572755, 0.49623272, 0.2146916 , 5.6765598 ,\n",
      "        3.06061828, 0.68062028, 3.03144678, 0.02186063, 0.2468392 ,\n",
      "        0.76810014]])]]\n"
     ]
    },
    {
     "ename": "TypeError",
     "evalue": "can't multiply sequence by non-int of type 'float'",
     "output_type": "error",
     "traceback": [
      "\u001b[1;31m---------------------------------------------------------------------------\u001b[0m",
      "\u001b[1;31mTypeError\u001b[0m                                 Traceback (most recent call last)",
      "Cell \u001b[1;32mIn[129], line 11\u001b[0m\n\u001b[0;32m      7\u001b[0m     gradient_descent(t, [nn1, nn2], \u001b[38;5;241m1000\u001b[39m, \u001b[38;5;241m0.1\u001b[39m)\n\u001b[0;32m      9\u001b[0m     \u001b[38;5;28;01mreturn\u001b[39;00m nn\n\u001b[1;32m---> 11\u001b[0m nn \u001b[38;5;241m=\u001b[39m \u001b[43mtrain\u001b[49m\u001b[43m(\u001b[49m\u001b[43mPSI_0\u001b[49m\u001b[43m)\u001b[49m\n",
      "Cell \u001b[1;32mIn[129], line 7\u001b[0m, in \u001b[0;36mtrain\u001b[1;34m(init_conditions)\u001b[0m\n\u001b[0;32m      5\u001b[0m nn1 \u001b[38;5;241m=\u001b[39m NeuralNetwork(init_conditions[\u001b[38;5;241m0\u001b[39m], derivative, \u001b[38;5;241m1\u001b[39m, hidden_sizes, \u001b[38;5;241m1\u001b[39m, activation_fns)\n\u001b[0;32m      6\u001b[0m nn2 \u001b[38;5;241m=\u001b[39m NeuralNetwork(init_conditions[\u001b[38;5;241m1\u001b[39m], derivative, \u001b[38;5;241m1\u001b[39m, hidden_sizes, \u001b[38;5;241m1\u001b[39m, activation_fns)\n\u001b[1;32m----> 7\u001b[0m \u001b[43mgradient_descent\u001b[49m\u001b[43m(\u001b[49m\u001b[43mt\u001b[49m\u001b[43m,\u001b[49m\u001b[43m \u001b[49m\u001b[43m[\u001b[49m\u001b[43mnn1\u001b[49m\u001b[43m,\u001b[49m\u001b[43m \u001b[49m\u001b[43mnn2\u001b[49m\u001b[43m]\u001b[49m\u001b[43m,\u001b[49m\u001b[43m \u001b[49m\u001b[38;5;241;43m1000\u001b[39;49m\u001b[43m,\u001b[49m\u001b[43m \u001b[49m\u001b[38;5;241;43m0.1\u001b[39;49m\u001b[43m)\u001b[49m\n\u001b[0;32m      9\u001b[0m \u001b[38;5;28;01mreturn\u001b[39;00m nn\n",
      "Cell \u001b[1;32mIn[128], line 24\u001b[0m, in \u001b[0;36mgradient_descent\u001b[1;34m(t, neural_networks, num_iter, learn_rate)\u001b[0m\n\u001b[0;32m     21\u001b[0m         \u001b[38;5;28mprint\u001b[39m(loss_grad)\n\u001b[0;32m     23\u001b[0m         \u001b[38;5;28;01mfor\u001b[39;00m k \u001b[38;5;129;01min\u001b[39;00m \u001b[38;5;28mrange\u001b[39m(\u001b[38;5;28mlen\u001b[39m(neural_networks[j]\u001b[38;5;241m.\u001b[39mweights)):\n\u001b[1;32m---> 24\u001b[0m             neural_networks[j]\u001b[38;5;241m.\u001b[39mweights[k] \u001b[38;5;241m=\u001b[39m neural_networks[j]\u001b[38;5;241m.\u001b[39mweights[k] \u001b[38;5;241m-\u001b[39m \u001b[43mlearn_rate\u001b[49m\u001b[43m \u001b[49m\u001b[38;5;241;43m*\u001b[39;49m\u001b[43m \u001b[49m\u001b[43mloss_grad\u001b[49m\u001b[43m[\u001b[49m\u001b[43mk\u001b[49m\u001b[43m]\u001b[49m\n\u001b[0;32m     26\u001b[0m \u001b[38;5;28;01mreturn\u001b[39;00m neural_networks\n",
      "\u001b[1;31mTypeError\u001b[0m: can't multiply sequence by non-int of type 'float'"
     ]
    }
   ],
   "source": [
    "def train(init_conditions):\n",
    "    t = np.arange(0, 3, 0.3)\n",
    "    hidden_sizes = np.array([10])\n",
    "    activation_fns = [sigmoid] * (len(hidden_sizes)) + [lambda x: x]\n",
    "    nn1 = NeuralNetwork(init_conditions[0], derivative, 1, hidden_sizes, 1, activation_fns)\n",
    "    nn2 = NeuralNetwork(init_conditions[1], derivative, 1, hidden_sizes, 1, activation_fns)\n",
    "    gradient_descent(t, [nn1, nn2], 1000, 0.1)\n",
    "\n",
    "    return nn\n",
    "\n",
    "nn = train(PSI_0)"
   ]
  },
  {
   "cell_type": "markdown",
   "metadata": {},
   "source": [
    "### Evaluating Results"
   ]
  },
  {
   "cell_type": "code",
   "execution_count": 48,
   "metadata": {},
   "outputs": [],
   "source": [
    "def plot(neural_network: NeuralNetwork, scale=1, dt=0.1):\n",
    "   t = np.arange(0, 2, dt)\n",
    "   res = neural_network.trial_solution(t, neural_network.weights)\n",
    "   fig = plt.figure(figsize=(10, 10))\n",
    "   ax = fig.add_subplot()\n",
    "   ax.plot(res[0], res[1], lw=1)\n",
    "   ax.plot(analytical_solution(t)[0], analytical_solution(t)[1], lw=1)\n",
    "   plt.legend(['nn', 'analytical'])\n",
    "\n",
    "   print(analytical_solution(t) - res[0])\n",
    "\n",
    "def simulate_sode(t, initial_conditions, derivative) -> Tuple[np.ndarray, np.ndarray]:\n",
    "   \"\"\"Simulate the system of ODEs over the time interval [0, dt * num_steps].\n",
    "\n",
    "   Args:\n",
    "      dt: The t step\n",
    "      initial_conditions: The initial conditions\n",
    "      num_steps: The number of t steps to calculate\n",
    "   \n",
    "   Returns:\n",
    "      A tuple of two NumPy arrays: the function output values, and the derivatives.\n",
    "   \"\"\"\n",
    "   df_dt = np.empty((len(t), len(initial_conditions)))\n",
    "   output = np.empty((len(t), len(initial_conditions)))\n",
    "   output[0] = initial_conditions\n",
    "\n",
    "   for i in range(len(t) - 1):\n",
    "      dt = t[i + 1] - t[i]\n",
    "      output[i + 1] = output[i] + derivative(t[i], output[i]) * dt\n",
    "      df_dt[i] = derivative(t[i], output[i])\n",
    "   \n",
    "   return output, df_dt"
   ]
  },
  {
   "cell_type": "code",
   "execution_count": 49,
   "metadata": {},
   "outputs": [
    {
     "name": "stdout",
     "output_type": "stream",
     "text": [
      "[[0.         0.08864797 0.15118963 0.18868369 0.22012952 0.25775354\n",
      "  0.30489472 0.36150855 0.42706682 0.5009419  0.58211733 0.66895454\n",
      "  0.75913211 0.84970629 0.93724441 1.01802442 1.08830532 1.14464535\n",
      "  1.18420719 1.20498072]\n",
      " [1.         0.99881455 0.9925203  0.98316348 0.99071118 1.028328\n",
      "  1.10025225 1.20729087 1.34971073 1.52761499 1.74064635 1.98774718\n",
      "  2.26709303 2.5761481  2.91179468 3.27052943 3.64873172 4.04298054\n",
      "  4.45035956 4.86868063]]\n"
     ]
    },
    {
     "data": {
      "image/png": "[encoded data removed]",
      "text/plain": [
       "<Figure size 1000x1000 with 1 Axes>"
      ]
     },
     "metadata": {},
     "output_type": "display_data"
    }
   ],
   "source": [
    "sns.set_theme(style=\"darkgrid\", palette=\"muted\", font='DeJavu Serif')\n",
    "plot(nn)\n",
    "sns.despine()"
   ]
  },
  {
   "cell_type": "code",
   "execution_count": 163,
   "metadata": {},
   "outputs": [],
   "source": []
  },
  {
   "cell_type": "code",
   "execution_count": null,
   "metadata": {},
   "outputs": [],
   "source": []
  }
 ],
 "metadata": {
  "kernelspec": {
   "display_name": "Python 3",
   "language": "python",
   "name": "python3"
  },
  "language_info": {
   "codemirror_mode": {
    "name": "ipython",
    "version": 3
   },
   "file_extension": ".py",
   "mimetype": "text/x-python",
   "name": "python",
   "nbconvert_exporter": "python",
   "pygments_lexer": "ipython3",
   "version": "3.12.1"
  }
 },
 "nbformat": 4,
 "nbformat_minor": 2
}
