{
 "cells": [
  {
   "cell_type": "code",
   "execution_count": 189,
   "metadata": {},
   "outputs": [],
   "source": [
    "from sklearn.neural_network import MLPRegressor\n",
    "import numpy as np\n",
    "from sklearn.metrics import make_scorer"
   ]
  },
  {
   "cell_type": "code",
   "execution_count": 224,
   "metadata": {},
   "outputs": [],
   "source": [
    "\n",
    "\n",
    "def fit(error_threshold, n):\n",
    "    err = 1e20\n",
    "    x = np.linspace(0, 2, n)\n",
    "    x = x.reshape(-1, 1)\n",
    "    \n",
    "    p = MLPRegressor(solver='lbfgs', alpha=1e-5, hidden_layer_sizes=(1), random_state=1, activation='logistic')\n",
    "    y0 = np.random.rand(n)\n",
    "    p.fit(x, y0)\n",
    "\n",
    "    while np.fabs(err) > error_threshold:\n",
    "        y_star = generate_derivative(x, p, 1e-6)\n",
    "        print(y_star)\n",
    "        print(p.coefs_)\n",
    "        return 0\n",
    "        p.fit(x, y_star)\n",
    "        err = np.linalg.norm(y_star - p.predict(x))\n",
    "        print(err)\n",
    "    \n",
    "    return p\n",
    "    \n",
    "def generate_derivative(x, p, delta) -> np.array:\n",
    "    print(x)\n",
    "    print(x + delta)\n",
    "    print(p.predict(x))\n",
    "    print(p.predict(x + 1e-6))\n",
    "    grad = (p.predict(x) - p.predict(x + delta))/ delta\n",
    "    return grad"
   ]
  },
  {
   "cell_type": "code",
   "execution_count": 225,
   "metadata": {},
   "outputs": [
    {
     "name": "stdout",
     "output_type": "stream",
     "text": [
      "[[0.        ]\n",
      " [0.10526316]\n",
      " [0.21052632]\n",
      " [0.31578947]\n",
      " [0.42105263]\n",
      " [0.52631579]\n",
      " [0.63157895]\n",
      " [0.73684211]\n",
      " [0.84210526]\n",
      " [0.94736842]\n",
      " [1.05263158]\n",
      " [1.15789474]\n",
      " [1.26315789]\n",
      " [1.36842105]\n",
      " [1.47368421]\n",
      " [1.57894737]\n",
      " [1.68421053]\n",
      " [1.78947368]\n",
      " [1.89473684]\n",
      " [2.        ]]\n",
      "[[1.00000000e-06]\n",
      " [1.05264158e-01]\n",
      " [2.10527316e-01]\n",
      " [3.15790474e-01]\n",
      " [4.21053632e-01]\n",
      " [5.26316789e-01]\n",
      " [6.31579947e-01]\n",
      " [7.36843105e-01]\n",
      " [8.42106263e-01]\n",
      " [9.47369421e-01]\n",
      " [1.05263258e+00]\n",
      " [1.15789574e+00]\n",
      " [1.26315889e+00]\n",
      " [1.36842205e+00]\n",
      " [1.47368521e+00]\n",
      " [1.57894837e+00]\n",
      " [1.68421153e+00]\n",
      " [1.78947468e+00]\n",
      " [1.89473784e+00]\n",
      " [2.00000100e+00]]\n",
      "[0.00262816 0.5433275  0.62962021 0.6426803  0.64464073 0.64493465\n",
      " 0.6449787  0.64498531 0.6449863  0.64498644 0.64498647 0.64498647\n",
      " 0.64498647 0.64498647 0.64498647 0.64498647 0.64498647 0.64498647\n",
      " 0.64498647 0.64498647]\n",
      "[0.00263902 0.54332931 0.62962048 0.64268035 0.64464074 0.64493465\n",
      " 0.6449787  0.64498531 0.6449863  0.64498644 0.64498647 0.64498647\n",
      " 0.64498647 0.64498647 0.64498647 0.64498647 0.64498647 0.64498647\n",
      " 0.64498647 0.64498647]\n",
      "[-1.08609513e+01 -1.81481168e+00 -2.76632978e-01 -4.15696213e-02\n",
      " -6.23323704e-03 -9.34353039e-04 -1.40051415e-04 -2.09923190e-05\n",
      " -3.14648307e-06 -4.71622741e-07 -7.07212067e-08 -1.06581410e-08\n",
      " -1.55431223e-09 -2.22044605e-10  0.00000000e+00  0.00000000e+00\n",
      "  0.00000000e+00  0.00000000e+00  0.00000000e+00  0.00000000e+00]\n",
      "[array([[-18.02960923]]), array([[-10.32637424]])]\n"
     ]
    }
   ],
   "source": [
    "error_threshold = 4e-4\n",
    "p = fit(error_threshold, 20)"
   ]
  },
  {
   "cell_type": "code",
   "execution_count": 218,
   "metadata": {},
   "outputs": [
    {
     "name": "stdout",
     "output_type": "stream",
     "text": [
      "[-0.00072089 -0.00070902 -0.00069716 -0.00068529 -0.00067343 -0.00066156\n",
      " -0.00064969 -0.00063783 -0.00062596 -0.0006141  -0.00060223 -0.00059036\n",
      " -0.0005785  -0.00056663 -0.00055476 -0.00054289 -0.00053103 -0.00051916\n",
      " -0.00050729 -0.00049542]\n",
      "[-0.00000000e+00 -7.46338553e-05 -1.46769778e-04 -2.16407713e-04\n",
      " -2.83547606e-04 -3.48189403e-04 -4.10333047e-04 -4.69978485e-04\n",
      " -5.27125663e-04 -5.81774524e-04 -6.33925016e-04 -6.83577082e-04\n",
      " -7.30730670e-04 -7.75385723e-04 -8.17542189e-04 -8.57200011e-04\n",
      " -8.94359137e-04 -9.29019511e-04 -9.61181079e-04 -9.90843787e-04]\n"
     ]
    }
   ],
   "source": [
    "x = np.linspace(0, 2, 20)\n",
    "x = x.reshape(-1, 1)\n",
    "print(p.predict(x))\n",
    "print(x.reshape(20) * p.predict(x))"
   ]
  },
  {
   "cell_type": "code",
   "execution_count": 226,
   "metadata": {},
   "outputs": [
    {
     "data": {
      "text/plain": [
       "array([[4.50444450e+01],\n",
       "       [2.04243425e+01],\n",
       "       [3.87180761e+00],\n",
       "       [6.02623173e-01],\n",
       "       [9.08410476e-02],\n",
       "       [1.36272892e-02],\n",
       "       [2.04277303e-03],\n",
       "       [3.06184552e-04],\n",
       "       [4.58922466e-05],\n",
       "       [6.87850877e-06],\n",
       "       [1.03097732e-06],\n",
       "       [1.54526833e-07],\n",
       "       [2.31610740e-08],\n",
       "       [3.47147053e-09],\n",
       "       [5.20317306e-10],\n",
       "       [7.79871519e-11],\n",
       "       [1.16890132e-11],\n",
       "       [1.75199409e-12],\n",
       "       [2.62595588e-13],\n",
       "       [3.93588331e-14]])"
      ]
     },
     "execution_count": 226,
     "metadata": {},
     "output_type": "execute_result"
    }
   ],
   "source": [
    "180.17778 * np.exp(18.03 * x) / (np.exp(18.03 * x) + 1)**2"
   ]
  },
  {
   "cell_type": "code",
   "execution_count": 223,
   "metadata": {},
   "outputs": [
    {
     "data": {
      "image/png": "[encoded data removed]",
      "text/plain": [
       "<Figure size 500x500 with 1 Axes>"
      ]
     },
     "metadata": {},
     "output_type": "display_data"
    }
   ],
   "source": [
    "from matplotlib import pyplot as plt\n",
    "\n",
    "plt.figure(figsize=(5, 5))\n",
    "\n",
    "plt.plot(x, x.reshape(20) * p.predict(x))\n",
    "plt.plot(x, np.exp(x))\n",
    "plt.show()"
   ]
  },
  {
   "cell_type": "code",
   "execution_count": null,
   "metadata": {},
   "outputs": [],
   "source": []
  }
 ],
 "metadata": {
  "kernelspec": {
   "display_name": "Python 3",
   "language": "python",
   "name": "python3"
  },
  "language_info": {
   "codemirror_mode": {
    "name": "ipython",
    "version": 3
   },
   "file_extension": ".py",
   "mimetype": "text/x-python",
   "name": "python",
   "nbconvert_exporter": "python",
   "pygments_lexer": "ipython3",
   "version": "3.12.1"
  }
 },
 "nbformat": 4,
 "nbformat_minor": 2
}
