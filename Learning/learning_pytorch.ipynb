{
 "cells": [
  {
   "cell_type": "markdown",
   "id": "f06969d0-977c-423b-ba08-1ad0eb2b2a6d",
   "metadata": {},
   "source": [
    "### Basic Tensor Operations"
   ]
  },
  {
   "cell_type": "code",
   "execution_count": null,
   "id": "995bacbe-44f3-462f-86ae-10a19034d8db",
   "metadata": {},
   "outputs": [],
   "source": [
    "import torch\n",
    "import numpy as np"
   ]
  },
  {
   "cell_type": "code",
   "execution_count": null,
   "id": "39ea7028-12ef-4d1a-abae-a59af3967d07",
   "metadata": {},
   "outputs": [],
   "source": [
    "# list to tensor\n",
    "data = [[1, 2, 3, 4, 5], [3, 1, 4, 9, 0]]\n",
    "x_data = torch.tensor(data)\n",
    "\n",
    "x_data"
   ]
  },
  {
   "cell_type": "code",
   "execution_count": null,
   "id": "09db7499-fccf-4b48-a978-d1ab879747d6",
   "metadata": {},
   "outputs": [],
   "source": [
    "# keeping shape with \"like\"\n",
    "x_ones = torch.ones_like(x_data)\n",
    "x_rand = torch.rand_like(x_data, dtype=torch.float)\n",
    "print(x_ones)\n",
    "print(x_rand)"
   ]
  },
  {
   "cell_type": "code",
   "execution_count": null,
   "id": "3cbf8a77-5bb1-47d2-8c4a-b9ef31a3acd3",
   "metadata": {},
   "outputs": [],
   "source": [
    "# initialize rand\n",
    "tensor = torch.rand(3, 4)\n",
    "\n",
    "tensor"
   ]
  },
  {
   "cell_type": "code",
   "execution_count": null,
   "id": "df272022-254c-423d-b1d2-3b1c4069f5fe",
   "metadata": {},
   "outputs": [],
   "source": [
    "# concatinate\n",
    "tensor = torch.ones(2, 2)\n",
    "\n",
    "tensor2 = torch.cat([tensor, tensor], dim=0)\n",
    "tensor2"
   ]
  },
  {
   "cell_type": "code",
   "execution_count": null,
   "id": "0576cb50-df09-4d4b-8d8c-92a4be18c90a",
   "metadata": {},
   "outputs": [],
   "source": [
    "# stack: along new dimension\n",
    "tensor2 = torch.stack([tensor, tensor, tensor], dim=1)\n",
    "tensor2"
   ]
  },
  {
   "cell_type": "code",
   "execution_count": null,
   "id": "afad4b11-c6ad-464a-9b92-fe555c6e59af",
   "metadata": {},
   "outputs": [],
   "source": [
    "# This computes the matrix multiplication between two tensors. y1, y2, y3 will have the same value\n",
    "# ``tensor.T`` returns the transpose of a tensor\n",
    "tensor = torch.tensor([[1, 3, 4], [2, 9, 1]])\n",
    "\n",
    "y1 = tensor @ tensor.T\n",
    "y2 = tensor.matmul(tensor.T)\n",
    "\n",
    "y3 = torch.ones_like(y1)\n",
    "torch.matmul(tensor, tensor.T, out=y3)\n",
    "\n",
    "print(y1)\n",
    "print(y2)\n",
    "print(y3)"
   ]
  },
  {
   "cell_type": "code",
   "execution_count": null,
   "id": "827c2fe9-71df-4462-8d11-22ec8e88c1da",
   "metadata": {},
   "outputs": [],
   "source": [
    "# This computes the element-wise product. z1, z2, z3 will have the same value\n",
    "z1 = tensor * tensor\n",
    "z2 = tensor.mul(tensor)\n",
    "\n",
    "z3 = torch.ones_like(tensor)\n",
    "torch.mul(tensor, tensor, out=z3)"
   ]
  },
  {
   "cell_type": "code",
   "execution_count": null,
   "id": "4da028a9-043c-44e0-87f6-8d71b8fd3731",
   "metadata": {},
   "outputs": [],
   "source": [
    "# t.sum() returns a tensor\n",
    "# t.item returns the value\n",
    "sum = tensor.sum()\n",
    "sum_item = sum.item()\n",
    "\n",
    "sum_item"
   ]
  },
  {
   "cell_type": "markdown",
   "id": "1a920120-4c15-4fd9-b920-cbc2add67fd5",
   "metadata": {
    "jp-MarkdownHeadingCollapsed": true
   },
   "source": [
    "### Neural Network"
   ]
  },
  {
   "cell_type": "code",
   "execution_count": null,
   "id": "78687544-f92d-469e-9de6-6dfb4e8807e7",
   "metadata": {},
   "outputs": [],
   "source": [
    "import os\n",
    "import torch\n",
    "from torch import nn\n",
    "from torch.utils.data import DataLoader\n",
    "from torchvision import datasets, transforms"
   ]
  },
  {
   "cell_type": "code",
   "execution_count": null,
   "id": "7e1973c3-5001-4446-a701-b13cae7d5106",
   "metadata": {},
   "outputs": [],
   "source": [
    "#\n",
    "device = (\n",
    "    \"cuda\"\n",
    "    if torch.cuda.is_available()\n",
    "    else \"mps\"\n",
    "    if torch.backends.mps.is_available()\n",
    "    else \"cpu\"\n",
    ")\n",
    "print(f\"Using {device} device\")"
   ]
  },
  {
   "cell_type": "code",
   "execution_count": null,
   "id": "f2a93c09-c475-45bf-a977-e68b53eacb74",
   "metadata": {},
   "outputs": [],
   "source": [
    "# subclassing nn.Module(inheritance)\n",
    "class NeuralNetwork(nn.Module):\n",
    "    def __init__(self):\n",
    "        super().__init__()\n",
    "        # nn.Flatten(input, start_dim=0, end_dim=-1) -> Tensor\n",
    "        # flattens tensor into one dimension\n",
    "        # sets flatten variable to the Flatten function\n",
    "        self.flatten = nn.Flatten()\n",
    "\n",
    "        # nn.Sequential(arg: OrderedDict[str, Module])\n",
    "        # creates a nn model\n",
    "        # layer parameters: (in_features, out_features, bias=True, device=None, dtype=None)\n",
    "        # activation functions\n",
    "        self.linear_relu_stack = nn.Sequential(\n",
    "            nn.Linear(28*28, 512),\n",
    "            nn.ReLU(),\n",
    "            nn.Linear(512, 512),\n",
    "            nn.ReLU(),\n",
    "            nn.Linear(512, 10),\n",
    "        )\n",
    "\n",
    "    # forward propogation\n",
    "    # input Tensor x\n",
    "    def forward(self, x):\n",
    "        x = self.flatten(x)\n",
    "        logits = self.linear_relu_stack(x)\n",
    "        return logits"
   ]
  },
  {
   "cell_type": "code",
   "execution_count": null,
   "id": "d96ad1f2-7b23-46be-9e3e-ae9470445641",
   "metadata": {},
   "outputs": [],
   "source": [
    "model = NeuralNetwork().to(device)\n",
    "print(model)"
   ]
  },
  {
   "cell_type": "markdown",
   "id": "16a43316-2d95-4be1-9e9a-8aa4c436e228",
   "metadata": {},
   "source": [
    "### NN on Digit Classification"
   ]
  },
  {
   "cell_type": "code",
   "execution_count": null,
   "id": "aca79313-391c-4ac9-ac61-932ac4e7f4e0",
   "metadata": {},
   "outputs": [],
   "source": [
    "#pytorch utility imports\n",
    "import torch\n",
    "import torchvision\n",
    "import torchvision.transforms as transforms\n",
    "from torch.utils.data import DataLoader, TensorDataset\n",
    "from torchvision.utils import make_grid\n",
    "\n",
    "#neural net imports\n",
    "import torch.nn as nn\n",
    "import torch.nn.functional as F\n",
    "import torch.optim as optim\n",
    "from torch.autograd import Variable"
   ]
  },
  {
   "cell_type": "code",
   "execution_count": null,
   "id": "19da62e1-bfb4-43ab-93a0-77f19c6d2b8a",
   "metadata": {},
   "outputs": [],
   "source": [
    "#import external libraries\n",
    "import pandas as pd\n",
    "import numpy as np\n",
    "import matplotlib.pyplot as plt\n",
    "from sklearn.model_selection import train_test_split\n",
    "import os\n",
    "import math\n",
    "%matplotlib inline"
   ]
  },
  {
   "cell_type": "code",
   "execution_count": null,
   "id": "6a7e0a18-90ff-4e98-b8c7-443b03fb8adb",
   "metadata": {},
   "outputs": [],
   "source": [
    "cwd = os.getcwd()\n",
    "files = os.listdir(cwd) \n",
    "\n",
    "print(files)"
   ]
  },
  {
   "cell_type": "code",
   "execution_count": null,
   "id": "050fee0b-3708-4db3-b5c9-cc0c7a81023c",
   "metadata": {},
   "outputs": [],
   "source": [
    "train_df = pd.read_csv(\"Learning/train.csv\")\n",
    "test_df = pd.read_csv(\"Learning/test.csv\")"
   ]
  },
  {
   "cell_type": "code",
   "execution_count": null,
   "id": "31731414-74fb-4fea-b0ca-470066190069",
   "metadata": {},
   "outputs": [],
   "source": [
    "train_labels = train_df['label'].values\n",
    "train_images = (train_df.iloc[:,1:].values).astype('float32')\n",
    "test_images = (test_df.iloc[:,:].values).astype('float32')"
   ]
  },
  {
   "cell_type": "code",
   "execution_count": null,
   "id": "77ca0f60-2dd5-48bb-8eab-4a95db061f48",
   "metadata": {},
   "outputs": [],
   "source": [
    "#Training and Validation Split\n",
    "train_images, val_images, train_labels, val_labels = train_test_split(train_images, train_labels,\n",
    "                                                                     stratify=train_labels, random_state=123,\n",
    "                                                                     test_size=0.20)"
   ]
  },
  {
   "cell_type": "code",
   "execution_count": null,
   "id": "a02d9968-f40e-4ce5-8e99-e10b7e271498",
   "metadata": {},
   "outputs": [],
   "source": [
    "train_images = train_images.reshape(train_images.shape[0], 28, 28)\n",
    "val_images = val_images.reshape(val_images.shape[0], 28, 28)\n",
    "test_images = test_images.reshape(test_images.shape[0], 28, 28)"
   ]
  },
  {
   "cell_type": "code",
   "execution_count": null,
   "id": "a7f2f987-a01b-4750-91dd-883d0d5f32ec",
   "metadata": {},
   "outputs": [],
   "source": [
    "#train samples\n",
    "for i in range(6, 9):\n",
    "    plt.subplot(330 + (i+1))\n",
    "    plt.imshow(train_images[i].squeeze(), cmap=plt.get_cmap('gray'))\n",
    "    plt.title(train_labels[i])"
   ]
  },
  {
   "cell_type": "code",
   "execution_count": null,
   "id": "d01a4ca7-a33c-45b5-b144-a56b7f365d27",
   "metadata": {},
   "outputs": [],
   "source": [
    "#convet to tensors and normalize\n",
    "#train\n",
    "train_images_tensor = torch.tensor(train_images)/255.0\n",
    "train_labels_tensor = torch.tensor(train_labels)\n",
    "train_tensor = TensorDataset(train_images_tensor, train_labels_tensor)\n",
    "\n",
    "#val\n",
    "val_images_tensor = torch.tensor(val_images)/255.0\n",
    "val_labels_tensor = torch.tensor(val_labels)\n",
    "val_tensor = TensorDataset(val_images_tensor, val_labels_tensor)\n",
    "\n",
    "#test\n",
    "test_images_tensor = torch.tensor(test_images)/255.0"
   ]
  },
  {
   "cell_type": "code",
   "execution_count": null,
   "id": "8b20c9dc-1f66-479e-8092-a639f5891449",
   "metadata": {},
   "outputs": [],
   "source": [
    "# load images using data generator\n",
    "train_loader = DataLoader(train_tensor, batch_size=16, num_workers=2, shuffle=True)\n",
    "val_loader = DataLoader(val_tensor, batch_size=16, num_workers=2, shuffle=True)\n",
    "test_loader = DataLoader(test_images_tensor, batch_size=16, num_workers=2, shuffle=False)"
   ]
  },
  {
   "cell_type": "code",
   "execution_count": null,
   "id": "556c41f8-c91d-4880-a34c-21194a600da0",
   "metadata": {},
   "outputs": [],
   "source": [
    "# plot images using data generator\n",
    "for batch_idx, (data, target) in enumerate(train_loader):\n",
    "    img_grid = make_grid(data[0:8,].unsqueeze(1), nrow=8)\n",
    "    img_target_labels = target[0:8,].numpy()\n",
    "    break\n",
    "    \n",
    "plt.imshow(img_grid.numpy().transpose((1,2,0)))\n",
    "plt.rcParams['figure.figsize'] = (10, 2)\n",
    "plt.title(img_target_labels, size=16)\n",
    "plt.show()"
   ]
  },
  {
   "cell_type": "code",
   "execution_count": null,
   "id": "0bdf8806-670e-476c-8bbb-2ab57496bccd",
   "metadata": {},
   "outputs": [],
   "source": [
    "# Neural Network\n",
    "class Net(nn.Module):\n",
    "    def __init__(self):\n",
    "        super(Net, self).__init__()\n",
    "        \n",
    "        self.conv_block = nn.Sequential(\n",
    "            nn.Conv2d(1, 32, kernel_size=3, stride=1, padding=1),\n",
    "            nn.BatchNorm2d(32),\n",
    "            nn.ReLU(inplace=True),\n",
    "            nn.Conv2d(32, 64, kernel_size=3, stride=1, padding=1),\n",
    "            nn.BatchNorm2d(64),\n",
    "            nn.ReLU(inplace=True),\n",
    "            nn.MaxPool2d(kernel_size=2, stride=2),\n",
    "            nn.Conv2d(64, 128, kernel_size=3, stride=1, padding=1),\n",
    "            nn.BatchNorm2d(128),\n",
    "            nn.ReLU(inplace=True),\n",
    "            nn.MaxPool2d(kernel_size=2, stride=2) \n",
    "        )\n",
    "        \n",
    "        self.linear_block = nn.Sequential(\n",
    "            nn.Dropout(p=0.5),\n",
    "            nn.Linear(128*7*7, 128),\n",
    "            nn.BatchNorm1d(128),\n",
    "            nn.ReLU(inplace=True),\n",
    "            nn.Dropout(0.5),\n",
    "            nn.Linear(128, 64),\n",
    "            nn.BatchNorm1d(64),\n",
    "            nn.ReLU(inplace=True),\n",
    "            nn.Dropout(0.5),\n",
    "            nn.Linear(64, 10)\n",
    "        )\n",
    "        \n",
    "    def forward(self, x):\n",
    "        x = self.conv_block(x)\n",
    "        x = x.view(x.size(0), -1)\n",
    "        x = self.linear_block(x)\n",
    "        \n",
    "        return x"
   ]
  },
  {
   "cell_type": "code",
   "execution_count": null,
   "id": "bd598d0d-097f-4a04-8910-1d990641d139",
   "metadata": {},
   "outputs": [],
   "source": [
    "conv_model = Net()\n",
    "conv_model"
   ]
  },
  {
   "cell_type": "code",
   "execution_count": null,
   "id": "cbe98b14-818f-45e6-a1d8-a629da5e3650",
   "metadata": {},
   "outputs": [],
   "source": [
    "#train model\n",
    "optimizer = optim.Adam(params=conv_model.parameters(), lr=0.003)\n",
    "criterion = nn.CrossEntropyLoss()\n",
    "\n",
    "exp_lr_scheduler = optim.lr_scheduler.StepLR(optimizer, step_size=7, gamma=0.1)\n",
    "\n",
    "def train_model(num_epoch):\n",
    "    conv_model.train()\n",
    "    exp_lr_scheduler.step()\n",
    "    \n",
    "    for batch_idx, (data, target) in enumerate(train_loader):\n",
    "        data = data.unsqueeze(1)\n",
    "        data, target = data, target\n",
    "            \n",
    "        optimizer.zero_grad()\n",
    "        output = conv_model(data)\n",
    "        loss = criterion(output, target)\n",
    "        loss.backward()\n",
    "        optimizer.step()\n",
    "        \n",
    "        if (batch_idx + 1)% 100 == 0:\n",
    "            print('Train Epoch: {} [{}/{} ({:.0f}%)]\\tLoss: {:.6f}'.format(num_epoch, (batch_idx + 1) * len(data), len(train_loader.dataset), 100. * (batch_idx + 1) / len(train_loader), loss.item()))\n",
    "            \n",
    "def evaluate(data_loader):\n",
    "    conv_model.eval()\n",
    "    loss = 0\n",
    "    correct = 0\n",
    "    \n",
    "    for data, target in data_loader:\n",
    "        data = data.unsqueeze(1)\n",
    "        data, target = data, target\n",
    "        \n",
    "        output = conv_model(data)\n",
    "        \n",
    "        loss += F.cross_entropy(output, target, size_average=False).item()\n",
    "\n",
    "        pred = output.data.max(1, keepdim=True)[1]\n",
    "        correct += pred.eq(target.data.view_as(pred)).cpu().sum()\n",
    "        \n",
    "    loss /= len(data_loader.dataset)\n",
    "        \n",
    "    print('\\nAverage Val Loss: {:.4f}, Val Accuracy: {}/{} ({:.3f}%)\\n'.format(\n",
    "        loss, correct, len(data_loader.dataset),\n",
    "        100. * correct / len(data_loader.dataset)))"
   ]
  },
  {
   "cell_type": "code",
   "execution_count": null,
   "id": "fdc3ed86-467a-4418-80cc-9c779aaa00bf",
   "metadata": {},
   "outputs": [],
   "source": [
    "num_epochs = 25\n",
    "\n",
    "for n in range(num_epochs):\n",
    "    train_model(n)\n",
    "    evaluate(val_loader)"
   ]
  },
  {
   "cell_type": "code",
   "execution_count": null,
   "id": "f67780bc-c714-4eba-85a5-1bf391341f22",
   "metadata": {},
   "outputs": [],
   "source": []
  }
 ],
 "metadata": {
  "kernelspec": {
   "display_name": "Python 3 (ipykernel)",
   "language": "python",
   "name": "python3"
  },
  "language_info": {
   "codemirror_mode": {
    "name": "ipython",
    "version": 3
   },
   "file_extension": ".py",
   "mimetype": "text/x-python",
   "name": "python",
   "nbconvert_exporter": "python",
   "pygments_lexer": "ipython3",
   "version": "3.12.1"
  }
 },
 "nbformat": 4,
 "nbformat_minor": 5
}
