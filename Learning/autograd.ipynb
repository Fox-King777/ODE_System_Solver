{
 "cells": [
  {
   "cell_type": "code",
   "execution_count": 2,
   "id": "7dcce121-0e03-41d7-848b-95f031455572",
   "metadata": {},
   "outputs": [],
   "source": [
    "import autograd.numpy as np\n",
    "from autograd import grad, elementwise_grad"
   ]
  },
  {
   "cell_type": "code",
   "execution_count": 5,
   "id": "22f1a86e-8317-4f96-80e2-069c331611ef",
   "metadata": {},
   "outputs": [
    {
     "data": {
      "text/plain": [
       "5.0"
      ]
     },
     "execution_count": 5,
     "metadata": {},
     "output_type": "execute_result"
    }
   ],
   "source": [
    "g = lambda x, w: 5 * x + 7 * w\n",
    "dgdx = elementwise_grad(g, 0)\n",
    "\n",
    "dgdx(1.0, 1.0)"
   ]
  },
  {
   "cell_type": "code",
   "execution_count": 6,
   "id": "34efbf04-017f-41b4-a407-dc4b1bcd74fb",
   "metadata": {},
   "outputs": [
    {
     "data": {
      "text/plain": [
       "17"
      ]
     },
     "execution_count": 6,
     "metadata": {},
     "output_type": "execute_result"
    }
   ],
   "source": [
    "g(2, 1)"
   ]
  },
  {
   "cell_type": "code",
   "execution_count": 7,
   "id": "0a014c8f-3edd-45ee-91c6-219f784a751f",
   "metadata": {},
   "outputs": [
    {
     "data": {
      "text/plain": [
       "34"
      ]
     },
     "execution_count": 7,
     "metadata": {},
     "output_type": "execute_result"
    }
   ],
   "source": [
    "f = lambda w, x: 3 * x + 6 * w + g(x, w)\n",
    "f(2, 1)"
   ]
  },
  {
   "cell_type": "code",
   "execution_count": 8,
   "id": "80d8255e-668d-411b-9624-3c10a1f59c46",
   "metadata": {},
   "outputs": [],
   "source": [
    "dfdx = elementwise_grad(f, 1)"
   ]
  },
  {
   "cell_type": "code",
   "execution_count": 9,
   "id": "99a6c796-6880-440b-8629-2f76d4a16616",
   "metadata": {},
   "outputs": [
    {
     "data": {
      "text/plain": [
       "8.0"
      ]
     },
     "execution_count": 9,
     "metadata": {},
     "output_type": "execute_result"
    }
   ],
   "source": [
    "dfdx(1.0, 1.0)"
   ]
  },
  {
   "cell_type": "code",
   "execution_count": 7,
   "id": "3f4e3bf4",
   "metadata": {},
   "outputs": [
    {
     "data": {
      "text/plain": [
       "array([10., 16., 22.])"
      ]
     },
     "execution_count": 7,
     "metadata": {},
     "output_type": "execute_result"
    }
   ],
   "source": [
    "h = lambda x: np.array([3 * x**2, 4 * x])\n",
    "\n",
    "dhdx = elementwise_grad(h, 0)\n",
    "\n",
    "dhdx(np.array([1, 2, 3]))"
   ]
  },
  {
   "cell_type": "code",
   "execution_count": 12,
   "id": "e71789f6",
   "metadata": {},
   "outputs": [
    {
     "data": {
      "text/plain": [
       "(100,)"
      ]
     },
     "execution_count": 12,
     "metadata": {},
     "output_type": "execute_result"
    }
   ],
   "source": [
    "t = np.arange(0, 1, 0.01)\n",
    "t.shape"
   ]
  },
  {
   "cell_type": "code",
   "execution_count": 13,
   "id": "043ac4da",
   "metadata": {},
   "outputs": [
    {
     "data": {
      "text/plain": [
       "(1, 100)"
      ]
     },
     "execution_count": 13,
     "metadata": {},
     "output_type": "execute_result"
    }
   ],
   "source": [
    "t = t.reshape(-1, t.size)\n",
    "t.shape"
   ]
  },
  {
   "cell_type": "code",
   "execution_count": 24,
   "id": "98e3c0c3",
   "metadata": {},
   "outputs": [],
   "source": [
    "class something:\n",
    "    def __init__(self, x, y):\n",
    "        self.x = x\n",
    "        self.y = y\n",
    "\n",
    "    def f(self, x, y):\n",
    "        return x**2 + y**2\n",
    "\n",
    "    def derivative(self):\n",
    "        return grad(self.f, 0)(self.x, self.y)"
   ]
  },
  {
   "cell_type": "code",
   "execution_count": 25,
   "id": "0fa9c465",
   "metadata": {},
   "outputs": [
    {
     "data": {
      "text/plain": [
       "4.0"
      ]
     },
     "execution_count": 25,
     "metadata": {},
     "output_type": "execute_result"
    }
   ],
   "source": [
    "a = something(2.0, 3.0)\n",
    "\n",
    "a.derivative()"
   ]
  },
  {
   "cell_type": "code",
   "execution_count": 4,
   "id": "5833a152",
   "metadata": {},
   "outputs": [
    {
     "data": {
      "text/plain": [
       "array([[1, 2, 3],\n",
       "       [4, 5, 6]])"
      ]
     },
     "execution_count": 4,
     "metadata": {},
     "output_type": "execute_result"
    }
   ],
   "source": [
    "a = np.array([[1, 2, 3]])\n",
    "b = np.array([[4, 5, 6]])\n",
    "\n",
    "np.append(a, b, axis=0)"
   ]
  },
  {
   "cell_type": "code",
   "execution_count": 9,
   "id": "7e8aa558",
   "metadata": {},
   "outputs": [
    {
     "data": {
      "text/plain": [
       "array([[array(None, dtype=object), array(None, dtype=object),\n",
       "        array(None, dtype=object)],\n",
       "       [4, 5, 6]], dtype=object)"
      ]
     },
     "execution_count": 9,
     "metadata": {},
     "output_type": "execute_result"
    }
   ],
   "source": [
    "np.append(np.array([[None] * 3]), b, axis=0)"
   ]
  },
  {
   "cell_type": "code",
   "execution_count": 14,
   "id": "5dbdffa5",
   "metadata": {},
   "outputs": [
    {
     "data": {
      "text/plain": [
       "array([[[1, 2, 3]],\n",
       "\n",
       "       [[4, 5, 6]]])"
      ]
     },
     "execution_count": 14,
     "metadata": {},
     "output_type": "execute_result"
    }
   ],
   "source": [
    "c = []\n",
    "\n",
    "c.append(a)\n",
    "c.append(b)\n",
    "np.array(c)"
   ]
  },
  {
   "cell_type": "code",
   "execution_count": 19,
   "id": "af800bf7",
   "metadata": {},
   "outputs": [
    {
     "data": {
      "text/plain": [
       "array([1, 2, 3])"
      ]
     },
     "execution_count": 19,
     "metadata": {},
     "output_type": "execute_result"
    }
   ],
   "source": [
    "a.reshape(a.size)"
   ]
  },
  {
   "cell_type": "code",
   "execution_count": 23,
   "id": "2efe89a7",
   "metadata": {},
   "outputs": [
    {
     "data": {
      "text/plain": [
       "2"
      ]
     },
     "execution_count": 23,
     "metadata": {},
     "output_type": "execute_result"
    }
   ],
   "source": [
    "class A:\n",
    "    def __init__(self, x):\n",
    "        self.x = x\n",
    "\n",
    "\n",
    "a = A(1)\n",
    "\n",
    "a.x += 1\n",
    "a.x"
   ]
  },
  {
   "cell_type": "code",
   "execution_count": 25,
   "id": "c46232f0",
   "metadata": {},
   "outputs": [
    {
     "ename": "AttributeError",
     "evalue": "'list' object has no attribute 'x'",
     "output_type": "error",
     "traceback": [
      "\u001b[1;31m---------------------------------------------------------------------------\u001b[0m",
      "\u001b[1;31mAttributeError\u001b[0m                            Traceback (most recent call last)",
      "Cell \u001b[1;32mIn[25], line 2\u001b[0m\n\u001b[0;32m      1\u001b[0m b \u001b[38;5;241m=\u001b[39m [A(\u001b[38;5;241m1\u001b[39m), A(\u001b[38;5;241m2\u001b[39m), A(\u001b[38;5;241m3\u001b[39m)]\n\u001b[1;32m----> 2\u001b[0m \u001b[43mb\u001b[49m\u001b[38;5;241;43m.\u001b[39;49m\u001b[43mx\u001b[49m\n",
      "\u001b[1;31mAttributeError\u001b[0m: 'list' object has no attribute 'x'"
     ]
    }
   ],
   "source": [
    "b = [A(1), A(2), A(3)]\n",
    "b.x"
   ]
  },
  {
   "cell_type": "code",
   "execution_count": 26,
   "id": "1d064010",
   "metadata": {},
   "outputs": [
    {
     "data": {
      "text/plain": [
       "array([ 4, 10, 18])"
      ]
     },
     "execution_count": 26,
     "metadata": {},
     "output_type": "execute_result"
    }
   ],
   "source": [
    "a = np.array([1, 2, 3])\n",
    "b = np.array([4, 5, 6])\n",
    "a * b"
   ]
  },
  {
   "cell_type": "code",
   "execution_count": 29,
   "id": "b8e98f4d",
   "metadata": {},
   "outputs": [
    {
     "name": "stdout",
     "output_type": "stream",
     "text": [
      "\u001b[91m [1 2 3]\n"
     ]
    }
   ],
   "source": [
    "print(\"\\033[91m\", a)"
   ]
  },
  {
   "cell_type": "code",
   "execution_count": 30,
   "id": "ff7d753a",
   "metadata": {},
   "outputs": [],
   "source": [
    "def fn(x, y):\n",
    "    if x > 0:\n",
    "        return x**2 + 3 * y**2\n",
    "    else:\n",
    "        return 3 * x**2 + y**2"
   ]
  },
  {
   "cell_type": "code",
   "execution_count": 33,
   "id": "4c414279",
   "metadata": {},
   "outputs": [
    {
     "data": {
      "text/plain": [
       "12.0"
      ]
     },
     "execution_count": 33,
     "metadata": {},
     "output_type": "execute_result"
    }
   ],
   "source": [
    "grad(fn, 1)(1.0, 2.0)"
   ]
  },
  {
   "cell_type": "code",
   "execution_count": 4,
   "id": "abe4e363",
   "metadata": {},
   "outputs": [
    {
     "name": "stdout",
     "output_type": "stream",
     "text": [
      "0 dick\n",
      "1 cock\n",
      "2 balls\n",
      "['dick', 'cock', 'balls']\n"
     ]
    }
   ],
   "source": [
    "A = [\"dick\", \"cock\", \"balls\"]\n",
    "for i, a in enumerate(A):\n",
    "    print(i, a)\n",
    "    a = \"hello world\"\n",
    "\n",
    "print(A)"
   ]
  },
  {
   "cell_type": "code",
   "execution_count": null,
   "id": "8ddf0ff5",
   "metadata": {},
   "outputs": [],
   "source": []
  }
 ],
 "metadata": {
  "kernelspec": {
   "display_name": "Python 3 (ipykernel)",
   "language": "python",
   "name": "python3"
  },
  "language_info": {
   "codemirror_mode": {
    "name": "ipython",
    "version": 3
   },
   "file_extension": ".py",
   "mimetype": "text/x-python",
   "name": "python",
   "nbconvert_exporter": "python",
   "pygments_lexer": "ipython3",
   "version": "3.12.1"
  }
 },
 "nbformat": 4,
 "nbformat_minor": 5
}
