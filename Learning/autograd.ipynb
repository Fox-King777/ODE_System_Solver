{
 "cells": [
  {
   "cell_type": "code",
   "execution_count": null,
   "id": "7dcce121-0e03-41d7-848b-95f031455572",
   "metadata": {},
   "outputs": [],
   "source": [
    "import autograd.numpy as np\n",
    "from autograd import grad, elementwise_grad"
   ]
  },
  {
   "cell_type": "code",
   "execution_count": null,
   "id": "22f1a86e-8317-4f96-80e2-069c331611ef",
   "metadata": {},
   "outputs": [],
   "source": [
    "g = lambda x, w: 5 * x + 7 * w\n",
    "dgdx = elementwise_grad(g, 0)\n",
    "\n",
    "dgdx(1.0, 1.0)"
   ]
  },
  {
   "cell_type": "code",
   "execution_count": null,
   "id": "34efbf04-017f-41b4-a407-dc4b1bcd74fb",
   "metadata": {},
   "outputs": [],
   "source": [
    "g(2, 1)"
   ]
  },
  {
   "cell_type": "code",
   "execution_count": null,
   "id": "0a014c8f-3edd-45ee-91c6-219f784a751f",
   "metadata": {},
   "outputs": [],
   "source": [
    "f = lambda w, x: 3 * x + 6 * w + g(x, w)\n",
    "f(2, 1)"
   ]
  },
  {
   "cell_type": "code",
   "execution_count": null,
   "id": "80d8255e-668d-411b-9624-3c10a1f59c46",
   "metadata": {},
   "outputs": [],
   "source": [
    "dfdx = elementwise_grad(f, 1)"
   ]
  },
  {
   "cell_type": "code",
   "execution_count": null,
   "id": "99a6c796-6880-440b-8629-2f76d4a16616",
   "metadata": {},
   "outputs": [],
   "source": [
    "dfdx(1.0, 1.0)"
   ]
  },
  {
   "cell_type": "code",
   "execution_count": null,
   "id": "3f4e3bf4",
   "metadata": {},
   "outputs": [],
   "source": [
    "h = lambda x: np.array([3 * x**2, 4 * x])\n",
    "\n",
    "dhdx = elementwise_grad(h, 0)\n",
    "\n",
    "dhdx(np.array([1, 2, 3]))"
   ]
  },
  {
   "cell_type": "code",
   "execution_count": null,
   "id": "e71789f6",
   "metadata": {},
   "outputs": [],
   "source": [
    "t = np.arange(0, 1, 0.01)\n",
    "t.shape"
   ]
  },
  {
   "cell_type": "code",
   "execution_count": null,
   "id": "043ac4da",
   "metadata": {},
   "outputs": [],
   "source": [
    "t = t.reshape(-1, t.size)\n",
    "t.shape"
   ]
  },
  {
   "cell_type": "code",
   "execution_count": null,
   "id": "98e3c0c3",
   "metadata": {},
   "outputs": [],
   "source": [
    "class something:\n",
    "    def __init__(self, x, y):\n",
    "        self.x = x\n",
    "        self.y = y\n",
    "\n",
    "    def f(self, x, y):\n",
    "        return x**2 + y**2\n",
    "\n",
    "    def derivative(self):\n",
    "        return grad(self.f, 0)(self.x, self.y)"
   ]
  },
  {
   "cell_type": "code",
   "execution_count": null,
   "id": "0fa9c465",
   "metadata": {},
   "outputs": [],
   "source": [
    "a = something(2.0, 3.0)\n",
    "\n",
    "a.derivative()"
   ]
  },
  {
   "cell_type": "code",
   "execution_count": null,
   "id": "5833a152",
   "metadata": {},
   "outputs": [],
   "source": [
    "a = np.array([[1, 2, 3]])\n",
    "b = np.array([[4, 5, 6]])\n",
    "\n",
    "np.append(a, b, axis=0)"
   ]
  },
  {
   "cell_type": "code",
   "execution_count": null,
   "id": "7e8aa558",
   "metadata": {},
   "outputs": [],
   "source": [
    "np.append(np.array([[None] * 3]), b, axis=0)"
   ]
  },
  {
   "cell_type": "code",
   "execution_count": null,
   "id": "5dbdffa5",
   "metadata": {},
   "outputs": [],
   "source": [
    "c = []\n",
    "\n",
    "c.append(a)\n",
    "c.append(b)\n",
    "np.array(c)"
   ]
  },
  {
   "cell_type": "code",
   "execution_count": null,
   "id": "af800bf7",
   "metadata": {},
   "outputs": [],
   "source": [
    "a.reshape(a.size)"
   ]
  },
  {
   "cell_type": "code",
   "execution_count": null,
   "id": "2efe89a7",
   "metadata": {},
   "outputs": [],
   "source": [
    "class A:\n",
    "    def __init__(self, x):\n",
    "        self.x = x\n",
    "\n",
    "\n",
    "a = A(1)\n",
    "\n",
    "a.x += 1\n",
    "a.x"
   ]
  },
  {
   "cell_type": "code",
   "execution_count": null,
   "id": "c46232f0",
   "metadata": {},
   "outputs": [],
   "source": [
    "b = [A(1), A(2), A(3)]\n",
    "b.x"
   ]
  },
  {
   "cell_type": "code",
   "execution_count": null,
   "id": "1d064010",
   "metadata": {},
   "outputs": [],
   "source": [
    "a = np.array([1, 2, 3])\n",
    "b = np.array([4, 5, 6])\n",
    "a * b"
   ]
  },
  {
   "cell_type": "code",
   "execution_count": null,
   "id": "b8e98f4d",
   "metadata": {},
   "outputs": [],
   "source": [
    "print(\"\\033[91m\", a)"
   ]
  },
  {
   "cell_type": "code",
   "execution_count": null,
   "id": "ff7d753a",
   "metadata": {},
   "outputs": [],
   "source": [
    "def fn(x, y):\n",
    "    if x > 0:\n",
    "        return x**2 + 3 * y**2\n",
    "    else:\n",
    "        return 3 * x**2 + y**2"
   ]
  },
  {
   "cell_type": "code",
   "execution_count": null,
   "id": "4c414279",
   "metadata": {},
   "outputs": [],
   "source": [
    "grad(fn, 1)(1.0, 2.0)"
   ]
  },
  {
   "cell_type": "code",
   "execution_count": null,
   "id": "abe4e363",
   "metadata": {},
   "outputs": [],
   "source": [
    "A = [\"dick\", \"cock\", \"balls\"]\n",
    "for i, a in enumerate(A):\n",
    "    print(i, a)\n",
    "    a = \"hello world\"\n",
    "\n",
    "print(A)"
   ]
  },
  {
   "cell_type": "code",
   "execution_count": null,
   "id": "8ddf0ff5",
   "metadata": {},
   "outputs": [],
   "source": []
  }
 ],
 "metadata": {
  "kernelspec": {
   "display_name": "Python 3 (ipykernel)",
   "language": "python",
   "name": "python3"
  },
  "language_info": {
   "codemirror_mode": {
    "name": "ipython",
    "version": 3
   },
   "file_extension": ".py",
   "mimetype": "text/x-python",
   "name": "python",
   "nbconvert_exporter": "python",
   "pygments_lexer": "ipython3",
   "version": "3.12.1"
  }
 },
 "nbformat": 4,
 "nbformat_minor": 5
}
