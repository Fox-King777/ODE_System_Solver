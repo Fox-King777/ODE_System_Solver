{
 "cells": [
  {
   "cell_type": "markdown",
   "metadata": {},
   "source": [
    "### Lorentz System\n",
    "\n",
    "$\\frac{\\mathrm{d}x}{\\mathrm{d}t} = \\sigma (y - x), \\\\[6pt]$\n",
    "\n",
    "\n",
    "$\\frac{\\mathrm{d}y}{\\mathrm{d}t} = x (\\rho - z) - y, \\\\[6pt]$\n",
    "\n",
    "\n",
    "$\\frac{\\mathrm{d}z}{\\mathrm{d}t} = x y - \\beta z.$\n",
    "\n",
    "$σ = 10$, $β = 8/3$ and $ρ = 28$"
   ]
  },
  {
   "cell_type": "code",
   "execution_count": 1,
   "metadata": {},
   "outputs": [],
   "source": [
    "import autograd.numpy as np\n",
    "from autograd import grad, elementwise_grad\n",
    "import autograd.numpy.random as npr\n",
    "from matplotlib import pyplot as plt"
   ]
  },
  {
   "cell_type": "markdown",
   "metadata": {},
   "source": [
    "### Activation Functions"
   ]
  },
  {
   "cell_type": "code",
   "execution_count": 2,
   "metadata": {},
   "outputs": [],
   "source": [
    "def sigmoid(z) -> float:\n",
    "    return 1 / (1 + np.exp(-z))\n",
    "\n",
    "\n",
    "def tanh(z) -> float:\n",
    "    return (np.exp(z) - np.exp(-z)) / (np.exp(z) + np.exp(-z))\n",
    "\n",
    "\n",
    "def elu(z, alpha: float) -> float:\n",
    "    return alpha * (np.exp(z) - 1) if z < 0 else z"
   ]
  },
  {
   "cell_type": "markdown",
   "metadata": {},
   "source": [
    "### Trial Solution & Analytical Solution"
   ]
  },
  {
   "cell_type": "code",
   "execution_count": 8,
   "metadata": {},
   "outputs": [],
   "source": [
    "def trial_solution(\n",
    "    input: np.array, parameters: np.array, initial_conditions: np.array\n",
    ") -> np.array:\n",
    "    return initial_conditions + input * neural_network(parameters, input)\n",
    "\n",
    "\n",
    "def right_hand_side(\n",
    "    input: np.array, trial_sol: np.array, constants: np.array\n",
    ") -> np.array:\n",
    "    return np.array(\n",
    "        [\n",
    "            constants[0] * (trial_sol[1] - trial_sol[0]),\n",
    "            trial_sol[0] * (constants[2] - trial_sol[2]) - trial_sol[1],\n",
    "            trial_sol[0] * trial_sol[1] - constants[1] * trial_sol[2],\n",
    "        ]\n",
    "    )\n",
    "\n",
    "\n",
    "def lorenz(xyz, *, s=10, r=28, b=2.667):\n",
    "    \"\"\"\n",
    "    Parameters\n",
    "    ----------\n",
    "    xyz : array-like, shape (3,)\n",
    "       Point of interest in three-dimensional space.\n",
    "    s, r, b : float\n",
    "       Parameters defining the Lorenz attractor.\n",
    "\n",
    "    Returns\n",
    "    -------\n",
    "    xyz_dot : array, shape (3,)\n",
    "       Values of the Lorenz attractor's partial derivatives at *xyz*.\n",
    "    \"\"\"\n",
    "    x, y, z = xyz\n",
    "    x_dot = s * (y - x)\n",
    "    y_dot = r * x - y - x * z\n",
    "    z_dot = x * y - b * z\n",
    "    return np.array([x_dot, y_dot, z_dot])"
   ]
  },
  {
   "cell_type": "markdown",
   "metadata": {},
   "source": [
    "### Cost Function"
   ]
  },
  {
   "cell_type": "code",
   "execution_count": 9,
   "metadata": {},
   "outputs": [],
   "source": [
    "def MSE_loss_function(input, parameters, constants: np.array):\n",
    "    trial_sol = trial_solution(input, parameters)\n",
    "    prediction = right_hand_side(input, trial_sol, constants)\n",
    "    neural_network_gradient = elementwise_grad(neural_network, 0)(input, parameters)\n",
    "\n",
    "    error_squared = (neural_network_gradient - prediction) ** 2\n",
    "    loss_sum = np.sum(error_squared)\n",
    "\n",
    "    return loss_sum / np.shape(error_squared)[0]"
   ]
  },
  {
   "cell_type": "markdown",
   "metadata": {},
   "source": [
    "### Neural Network"
   ]
  },
  {
   "cell_type": "code",
   "execution_count": null,
   "metadata": {},
   "outputs": [],
   "source": [
    "def neural_network(input, parameters):\n",
    "    "
   ]
  },
  {
   "cell_type": "markdown",
   "metadata": {},
   "source": []
  }
 ],
 "metadata": {
  "kernelspec": {
   "display_name": "Python 3",
   "language": "python",
   "name": "python3"
  },
  "language_info": {
   "codemirror_mode": {
    "name": "ipython",
    "version": 3
   },
   "file_extension": ".py",
   "mimetype": "text/x-python",
   "name": "python",
   "nbconvert_exporter": "python",
   "pygments_lexer": "ipython3",
   "version": "3.12.1"
  }
 },
 "nbformat": 4,
 "nbformat_minor": 2
}
