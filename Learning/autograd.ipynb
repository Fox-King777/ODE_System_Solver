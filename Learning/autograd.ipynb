{
 "cells": [
  {
   "cell_type": "code",
   "execution_count": 1,
   "id": "7dcce121-0e03-41d7-848b-95f031455572",
   "metadata": {},
   "outputs": [],
   "source": [
    "import autograd.numpy as np\n",
    "from autograd import grad, elementwise_grad"
   ]
  },
  {
   "cell_type": "code",
   "execution_count": 5,
   "id": "22f1a86e-8317-4f96-80e2-069c331611ef",
   "metadata": {},
   "outputs": [
    {
     "data": {
      "text/plain": [
       "5.0"
      ]
     },
     "execution_count": 5,
     "metadata": {},
     "output_type": "execute_result"
    }
   ],
   "source": [
    "g = lambda x, w: 5 * x + 7 * w\n",
    "dgdx = elementwise_grad(g, 0)\n",
    "\n",
    "dgdx(1.0, 1.0)"
   ]
  },
  {
   "cell_type": "code",
   "execution_count": 6,
   "id": "34efbf04-017f-41b4-a407-dc4b1bcd74fb",
   "metadata": {},
   "outputs": [
    {
     "data": {
      "text/plain": [
       "17"
      ]
     },
     "execution_count": 6,
     "metadata": {},
     "output_type": "execute_result"
    }
   ],
   "source": [
    "g(2, 1)"
   ]
  },
  {
   "cell_type": "code",
   "execution_count": 7,
   "id": "0a014c8f-3edd-45ee-91c6-219f784a751f",
   "metadata": {},
   "outputs": [
    {
     "data": {
      "text/plain": [
       "34"
      ]
     },
     "execution_count": 7,
     "metadata": {},
     "output_type": "execute_result"
    }
   ],
   "source": [
    "f = lambda w, x: 3 * x + 6 * w + g(x, w)\n",
    "f(2, 1)"
   ]
  },
  {
   "cell_type": "code",
   "execution_count": 8,
   "id": "80d8255e-668d-411b-9624-3c10a1f59c46",
   "metadata": {},
   "outputs": [],
   "source": [
    "dfdx = elementwise_grad(f, 1)"
   ]
  },
  {
   "cell_type": "code",
   "execution_count": 9,
   "id": "99a6c796-6880-440b-8629-2f76d4a16616",
   "metadata": {},
   "outputs": [
    {
     "data": {
      "text/plain": [
       "8.0"
      ]
     },
     "execution_count": 9,
     "metadata": {},
     "output_type": "execute_result"
    }
   ],
   "source": [
    "dfdx(1.0, 1.0)"
   ]
  },
  {
   "cell_type": "code",
   "execution_count": 7,
   "id": "3f4e3bf4",
   "metadata": {},
   "outputs": [
    {
     "data": {
      "text/plain": [
       "array([10., 16., 22.])"
      ]
     },
     "execution_count": 7,
     "metadata": {},
     "output_type": "execute_result"
    }
   ],
   "source": [
    "h = lambda x: np.array([3 * x**2, 4 * x])\n",
    "\n",
    "dhdx = elementwise_grad(h, 0)\n",
    "\n",
    "dhdx(np.array([1, 2, 3]))"
   ]
  },
  {
   "cell_type": "code",
   "execution_count": 12,
   "id": "e71789f6",
   "metadata": {},
   "outputs": [
    {
     "data": {
      "text/plain": [
       "(100,)"
      ]
     },
     "execution_count": 12,
     "metadata": {},
     "output_type": "execute_result"
    }
   ],
   "source": [
    "t = np.arange(0, 1, 0.01)\n",
    "t.shape"
   ]
  },
  {
   "cell_type": "code",
   "execution_count": 13,
   "id": "043ac4da",
   "metadata": {},
   "outputs": [
    {
     "data": {
      "text/plain": [
       "(1, 100)"
      ]
     },
     "execution_count": 13,
     "metadata": {},
     "output_type": "execute_result"
    }
   ],
   "source": [
    "t = t.reshape(-1, t.size)\n",
    "t.shape"
   ]
  },
  {
   "cell_type": "code",
   "execution_count": 24,
   "id": "98e3c0c3",
   "metadata": {},
   "outputs": [],
   "source": [
    "class something:\n",
    "    def __init__(self, x, y):\n",
    "        self.x = x\n",
    "        self.y = y\n",
    "    \n",
    "    def f(self, x, y):\n",
    "        return x**2 + y**2\n",
    "\n",
    "    def derivative(self):\n",
    "        return grad(self.f, 0)(self.x, self.y)"
   ]
  },
  {
   "cell_type": "code",
   "execution_count": 25,
   "id": "0fa9c465",
   "metadata": {},
   "outputs": [
    {
     "data": {
      "text/plain": [
       "4.0"
      ]
     },
     "execution_count": 25,
     "metadata": {},
     "output_type": "execute_result"
    }
   ],
   "source": [
    "a = something(2., 3.)\n",
    "\n",
    "a.derivative()"
   ]
  },
  {
   "cell_type": "code",
   "execution_count": null,
   "id": "5833a152",
   "metadata": {},
   "outputs": [],
   "source": []
  }
 ],
 "metadata": {
  "kernelspec": {
   "display_name": "Python 3 (ipykernel)",
   "language": "python",
   "name": "python3"
  },
  "language_info": {
   "codemirror_mode": {
    "name": "ipython",
    "version": 3
   },
   "file_extension": ".py",
   "mimetype": "text/x-python",
   "name": "python",
   "nbconvert_exporter": "python",
   "pygments_lexer": "ipython3",
   "version": "3.12.1"
  }
 },
 "nbformat": 4,
 "nbformat_minor": 5
}
