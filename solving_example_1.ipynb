{
 "cells": [
  {
   "cell_type": "markdown",
   "metadata": {},
   "source": [
    "### Differential Equation\n",
    "\n",
    "$\\frac{\\mathrm{d}\\Psi}{\\mathrm{d}x} = -(x + \\frac{1 + 3x^2}{1 + x + x^3})\\Psi + x^3 + 2x + x^2 \\frac{1 + 3x^2}{1 + x + x^3},$\n",
    "\n",
    "$\\Psi(0) = 1, x \\in [0, 2]$"
   ]
  },
  {
   "cell_type": "code",
   "execution_count": 103,
   "metadata": {},
   "outputs": [],
   "source": [
    "from typing import List, Tuple, Callable\n",
    "import autograd.numpy as np\n",
    "from autograd import grad, elementwise_grad\n",
    "import matplotlib\n",
    "from matplotlib import pyplot as plt\n",
    "import seaborn as sns"
   ]
  },
  {
   "cell_type": "code",
   "execution_count": 71,
   "metadata": {},
   "outputs": [],
   "source": [
    "PSI_0 = np.array([1])\n",
    "\n",
    "def derivative(x, psi) -> np.ndarray:\n",
    "    \"\"\"Example #1 derivative.\n",
    "    \n",
    "    Args:\n",
    "        x: The input vector\n",
    "        psi: The function vector\n",
    "\n",
    "    Returns:\n",
    "        Value of psi's partial derivatives at x.\n",
    "    \"\"\"\n",
    "    psi_dot = -(x + (1 + 3 * x**2) / (1 + x + x**3)) * psi + x**3 + 2 * x + x**2 * (1 + 3 * x**2) / (1 + x + x**3)\n",
    "    return psi_dot\n",
    "\n",
    "def analytical_solution(x):\n",
    "   \"\"\"Analytical solution to example #1.\n",
    "    Args:\n",
    "        x: The input vector\n",
    "\n",
    "    Returns:\n",
    "        Value of psi at x.\n",
    "    \"\"\"\n",
    "   return np.exp(-x**2 / 2) / (1 + x + x**3) + x**2"
   ]
  },
  {
   "cell_type": "markdown",
   "metadata": {},
   "source": [
    "### Activation Functions"
   ]
  },
  {
   "cell_type": "code",
   "execution_count": 6,
   "metadata": {},
   "outputs": [],
   "source": [
    "def sigmoid(z):\n",
    "    return 1 / (1 + np.exp(-z))\n",
    "\n",
    "\n",
    "def tanh(z):\n",
    "    return (np.exp(z) - np.exp(-z)) / (np.exp(z) + np.exp(-z))\n",
    "\n",
    "\n",
    "def elu(z, alpha: float):\n",
    "    return alpha * (np.exp(z) - 1) if z < 0 else z"
   ]
  },
  {
   "cell_type": "markdown",
   "metadata": {},
   "source": [
    "### Neural Network"
   ]
  },
  {
   "cell_type": "markdown",
   "metadata": {},
   "source": [
    "![](NN.png \"Neural Network\")"
   ]
  },
  {
   "cell_type": "code",
   "execution_count": 122,
   "metadata": {},
   "outputs": [],
   "source": [
    "class NeuralNetwork:\n",
    "    \"\"\"A neural network class for solving ODEs or system of ODEs.\n",
    "        Attributes:\n",
    "            init_conditions (np.array): Initial conditions for the target function.\n",
    "            derivative (Callable): Function that calculates the target derivative of the neural network.\n",
    "            input_size (int): Size of the input layer.\n",
    "            hidden_sizes (np.array): Array of integers representing the sizes of the hidden layers.\n",
    "            output_size (int): Size of the output layer.\n",
    "            activation_fns (List[Callable]): List of activation functions for each layer.\n",
    "            weights (List[np.array]): List of weights and biases for each layer.\n",
    "\n",
    "        Methods:\n",
    "            init_weights(): Initializes the weights and biases of the neural network.\n",
    "            forward(t: np.array, weights: List[np.array]) -> np.array: Makes a forward pass through the neural network.\n",
    "            mse_loss_function(t: np.array, weights: List[np.array]) -> float: Calculates the mean squared error of the neural network.\n",
    "            trial_solution(t: np.array, weights: List[np.array]) -> np.ndarray: Calculates the trial solution.\n",
    "            trial_grad(t: np.array, weights: List[np.array]) -> np.array: Calculates the gradient of the trial solution with respect to t.\n",
    "            gradient_descent(t: np.array, num_iter: int, learn_rate: float) -> List[np.array]: Runs gradient descent for a given number of iterations.\n",
    "    \"\"\"\n",
    "    def __init__(self, init_conditions: np.array, derivative: Callable, input_size: int, hidden_sizes: np.array, output_size: int, activation_fns: List[Callable]):\n",
    "        self.init_conditions = init_conditions\n",
    "        self.derivative = derivative\n",
    "        self.input_size = input_size\n",
    "        self.hidden_sizes = hidden_sizes\n",
    "        self.output_size = output_size\n",
    "        self.activation_fns = activation_fns\n",
    "        self.weights = [None] * (hidden_sizes.shape[0] + 1) # +1 for the output\n",
    "        self.init_weights()\n",
    "\n",
    "    def init_weights(self):\n",
    "        \"\"\" Initializes the weights and biases of the neural network \n",
    "        Args:\n",
    "            None\n",
    "        \n",
    "        Returns:\n",
    "            None\n",
    "        \"\"\"\n",
    "        # hidden weights and biases\n",
    "        self.weights[0] = np.random.randn(self.hidden_sizes[0], self.input_size + 1) # +1 for the bias\n",
    "        for i in range(1, self.hidden_sizes.shape[0]):\n",
    "            self.weights[i] = np.random.randn(self.hidden_sizes[i], self.hidden_sizes[i - 1] + 1) # +1 for the bias\n",
    "\n",
    "        # output weights and biases\n",
    "        self.weights[-1] = np.random.randn(self.output_size, self.hidden_sizes[-1] + 1) # +1 for the bias\n",
    "\n",
    "    def forward(self, t: np.array, weights: List[np.array]) -> np.array:\n",
    "        \"\"\"Makes a forward pass through the neural network.\n",
    "\n",
    "        Args:\n",
    "            t: The t vector\n",
    "            weights: The weights and biases of the neural network\n",
    "        \n",
    "        Returns:\n",
    "            A NumPy array of the output of the neural network of dim(3, len(t)).\n",
    "        \"\"\"\n",
    "        num_layers = len(weights)\n",
    "        # row matrix\n",
    "        t = t.reshape(-1, t.size)\n",
    "\n",
    "        z = None\n",
    "        a = t\n",
    "        for i in range(num_layers):\n",
    "            z = np.matmul(weights[i], np.concatenate((np.ones((1, t.size)), a), axis = 0))\n",
    "            a = self.activation_fns[i](z)\n",
    "        \n",
    "        return z\n",
    "\n",
    "    def mse_loss_function(self, t: np.array, weights: List[np.array]) -> float:\n",
    "        \"\"\"Calculates the mean squared error of the neural network.\n",
    "\n",
    "        Args:\n",
    "            t: The input vector\n",
    "            weights: The weights and biases of the neural network\n",
    "\n",
    "        Returns:\n",
    "            Mean squared error value\n",
    "        \n",
    "        \"\"\"\n",
    "        trial_sol = self.trial_solution(t, weights)\n",
    "        grad_star = self.derivative(t, trial_sol)\n",
    "        grad = self.trial_grad(t, weights)\n",
    "        error = grad_star - grad\n",
    "\n",
    "        print(trial_sol.shape)\n",
    "        print(grad_star.shape)\n",
    "        print(grad.shape)\n",
    "        print(error.shape)\n",
    "\n",
    "        return np.linalg.norm(error, 'fro') / np.sqrt(np.size(error))\n",
    "\n",
    "    def trial_solution(self, t: np.array, weights: List[np.array]) -> np.ndarray:\n",
    "        \"\"\"Calculates the trial solution of the system of ODEs.\n",
    "        \n",
    "        Args:\n",
    "            t: The input vector\n",
    "            weights: The weights and biases of the neural network\n",
    "        \n",
    "        Returns:\n",
    "            A NumPy array of the trial solution of the system of ODEs\n",
    "            dimension (self.output_size, len(t))\n",
    "        \"\"\"\n",
    "        fp = self.forward(t, weights)\n",
    "        return np.array([self.init_conditions[i] + t * fp[i] for i in range(self.output_size)])\n",
    "\n",
    "    def elementwise_trial_solution(self, t: np.array, weights: List[np.array], index):\n",
    "        return self.trial_solution(t, weights)[index]\n",
    "\n",
    "    def trial_grad(self, t: np.array, weights: List[np.array]) -> np.array:\n",
    "        \"\"\"Calculates the gradient of the trial solution of the Lorentz System.\n",
    "        \n",
    "        Args:\n",
    "            t: The input vector\n",
    "            weights: The weights and biases of the neural network\n",
    "        \n",
    "        Returns:\n",
    "            A NumPy array of the gradient of the trial solution of the Lorentz System with \n",
    "            dimension (self.output_size, len(t))\n",
    "        \"\"\"\n",
    "        return np.array([elementwise_grad(self.elementwise_trial_solution, 0)(t, weights, i) for i in range(self.output_size)])\n",
    "\n",
    "    def gradient_descent(self, t: np.array, num_iter: int, learn_rate: float):\n",
    "        \"\"\"Runs gradient descent for a given number of iterations\n",
    "\n",
    "        Args:\n",
    "            t: The input vector\n",
    "            num_iter: The number of iterations\n",
    "            learn_rate: The learning rate\n",
    "        \n",
    "        Returns:\n",
    "            weights: The weights and biases of the neural network after gradient descent\n",
    "        \"\"\"\n",
    "        loss_grad_function = grad(self.mse_loss_function, 1)\n",
    "\n",
    "        for i in range(num_iter):\n",
    "            print(\"iteration: \", i)\n",
    "            print(self.mse_loss_function(t, self.weights))\n",
    "            loss_grad = loss_grad_function(t, self.weights)\n",
    "            \n",
    "            for j in range(len(self.weights)):\n",
    "                self.weights[j] = self.weights[j] - learn_rate * loss_grad[j]\n",
    "\n",
    "        return self.weights\n",
    "    \n",
    "    def adam(self, t, grad, num_iters=10000, step_size=0.001, b1=0.9, b2=0.999, eps=10**-8):\n",
    "        loss_grad_function = grad(self.mse_loss_function, 1)\n",
    "\n",
    "        m = [np.zeros_like(self.weights[i]) for i in range(len(self.weights))]\n",
    "        v = [np.zeros_like(self.weights[i]) for i in range(len(self.weights))]\n",
    "        mhat = [None] * len(self.weights)\n",
    "        vhat = [None] * len(self.weights)\n",
    "        for i in range(num_iters):\n",
    "            g = loss_grad_function(t, self.weights)\n",
    "            print(\"iteration: \", i)\n",
    "            print(self.mse_loss_function(t, self.weights))\n",
    "            \n",
    "            for j in range(len(self.weights)):\n",
    "                m[j] = (1 - b1) * g[j]      + b1 * m[j]  # First  moment estimate.\n",
    "                v[j] = (1 - b2) * (g[j]**2) + b2 * v[j]  # Second moment estimate.\n",
    "                mhat[j] = m[j] / (1 - b1**(i + 1))    # Bias correction.\n",
    "                vhat[j] = v[j] / (1 - b2**(i + 1)) \n",
    "                self.weights[j] = self.weights[j] - step_size * mhat[j]/(np.sqrt(vhat[j]) + eps)\n",
    "        \n",
    "        return self.weights"
   ]
  },
  {
   "cell_type": "markdown",
   "metadata": {},
   "source": [
    "### Training"
   ]
  },
  {
   "cell_type": "code",
   "execution_count": 123,
   "metadata": {},
   "outputs": [
    {
     "name": "stdout",
     "output_type": "stream",
     "text": [
      "iteration:  0\n",
      "(1, 200)\n",
      "(1, 200)\n",
      "(1, 200)\n",
      "(1, 200)\n",
      "3.412394965595225\n",
      "(1, 200)\n",
      "(1, 200)\n",
      "(1, 200)\n",
      "(1, 200)\n"
     ]
    }
   ],
   "source": [
    "def train(init_conditions):\n",
    "    t = np.arange(0, 2, 0.01)\n",
    "    hidden_sizes = np.array([10])\n",
    "    activation_fns = [sigmoid] * (len(hidden_sizes)) + [lambda x: x]\n",
    "    nn = NeuralNetwork(init_conditions, derivative, 1, hidden_sizes, 1, activation_fns)\n",
    "    nn.gradient_descent(t, 1, 0.0001)\n",
    "\n",
    "    return nn\n",
    "\n",
    "nn = train(PSI_0)"
   ]
  },
  {
   "cell_type": "markdown",
   "metadata": {},
   "source": [
    "### Evaluating Results"
   ]
  },
  {
   "cell_type": "code",
   "execution_count": 120,
   "metadata": {},
   "outputs": [],
   "source": [
    "def plot(neural_network: NeuralNetwork, scale=1, dt=0.1):\n",
    "   t = np.arange(0, 2, dt)\n",
    "   res = neural_network.trial_solution(t, neural_network.weights)\n",
    "   fig = plt.figure(figsize=(10, 10))\n",
    "   ax = fig.add_subplot()\n",
    "   ax.plot(t, res[0], lw=1)\n",
    "   ax.plot(t, analytical_solution(t), lw=1)\n",
    "   plt.legend(['nn', 'analytical'])\n",
    "\n",
    "   print(analytical_solution(t) - res[0])\n",
    "\n",
    "def simulate_sode(t, initial_conditions, derivative) -> Tuple[np.ndarray, np.ndarray]:\n",
    "   \"\"\"Simulate the system of ODEs over the time interval [0, dt * num_steps].\n",
    "\n",
    "   Args:\n",
    "      dt: The t step\n",
    "      initial_conditions: The initial conditions\n",
    "      num_steps: The number of t steps to calculate\n",
    "   \n",
    "   Returns:\n",
    "      A tuple of two NumPy arrays: the function output values, and the derivatives.\n",
    "   \"\"\"\n",
    "   df_dt = np.empty((len(t), len(initial_conditions)))\n",
    "   output = np.empty((len(t), len(initial_conditions)))\n",
    "   output[0] = initial_conditions\n",
    "\n",
    "   for i in range(len(t) - 1):\n",
    "      dt = t[i + 1] - t[i]\n",
    "      output[i + 1] = output[i] + derivative(t[i], output[i]) * dt\n",
    "      df_dt[i] = derivative(t[i], output[i])\n",
    "   \n",
    "   return output, df_dt"
   ]
  },
  {
   "cell_type": "code",
   "execution_count": 121,
   "metadata": {},
   "outputs": [
    {
     "name": "stdout",
     "output_type": "stream",
     "text": [
      "[ 0.         -0.00312869 -0.00416887 -0.00563695 -0.00817624 -0.01140987\n",
      " -0.01461278 -0.01722498 -0.01913393 -0.02068281 -0.02244658 -0.02490097\n",
      " -0.02814924 -0.0318466  -0.03537318 -0.03818419 -0.04016172 -0.04175842\n",
      " -0.04377719 -0.04676303]\n"
     ]
    },
    {
     "data": {
      "image/png": "[encoded data removed]",
      "text/plain": [
       "<Figure size 1000x1000 with 1 Axes>"
      ]
     },
     "metadata": {},
     "output_type": "display_data"
    }
   ],
   "source": [
    "sns.set_theme(style=\"darkgrid\", palette=\"muted\", font='DeJavu Serif')\n",
    "plot(nn)\n",
    "sns.despine()"
   ]
  },
  {
   "cell_type": "code",
   "execution_count": null,
   "metadata": {},
   "outputs": [],
   "source": []
  }
 ],
 "metadata": {
  "kernelspec": {
   "display_name": "Python 3",
   "language": "python",
   "name": "python3"
  },
  "language_info": {
   "codemirror_mode": {
    "name": "ipython",
    "version": 3
   },
   "file_extension": ".py",
   "mimetype": "text/x-python",
   "name": "python",
   "nbconvert_exporter": "python",
   "pygments_lexer": "ipython3",
   "version": "3.12.1"
  }
 },
 "nbformat": 4,
 "nbformat_minor": 2
}
