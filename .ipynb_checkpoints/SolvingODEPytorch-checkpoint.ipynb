{
 "cells": [
  {
   "cell_type": "code",
   "execution_count": null,
   "id": "32c265b5-5188-4d29-9faa-e5f38d459f1d",
   "metadata": {},
   "outputs": [],
   "source": [
    "import torch, torch.nn as nn, torch.utils.data as data, torch.nn.functional as F\n",
    "from torch.autograd import grad\n",
    "import lightning as L\n",
    "import numpy as np\n",
    "import matplotlib.pyplot as plt"
   ]
  },
  {
   "cell_type": "code",
   "execution_count": null,
   "id": "9c07a15c-45b9-47e5-9c76-843d4a0ebac7",
   "metadata": {},
   "outputs": [],
   "source": [
    "class ODE_Learner(L.LightningModule):\n",
    "    def __init__(self, init_condition, gamma):\n",
    "        super().__init__()\n",
    "\n",
    "        self.model = nn.Sequential(\n",
    "            nn.Linear(1, 20),\n",
    "            nn.Sigmoid(),\n",
    "            nn.Linear(20, 20),\n",
    "            nn.Sigmoid(),\n",
    "            nn.Linear(20, 20),\n",
    "            nn.Sigmoid(),\n",
    "            nn.Linear(20, 1)\n",
    "        )\n",
    "\n",
    "        self.init_condition = init_condition\n",
    "        self.gamma = gamma\n",
    "\n",
    "    def forward(self, x):\n",
    "        return self.model(x)\n",
    "\n",
    "    def configure_optimizers(self):\n",
    "        return torch.optim.Adam(self.parameters(), lr=0.001)\n",
    "\n",
    "    def g(self, x, g_t):\n",
    "        return self.gamma * g_t\n",
    "        #return 2 * x\n",
    "\n",
    "    def g_trial(self, x):\n",
    "        return self.init_condition + self.forward(x)\n",
    "\n",
    "    def training_step(self, batch, batch_idx):\n",
    "        x, _ = batch\n",
    "        x.requires_grad = True\n",
    "        g_t = self.init_condition + self.forward(x)\n",
    "        sol = self.gamma * g_t\n",
    "        dgt_dx = torch.autograd.grad(retain_graph=True, outputs=g_t, \n",
    "                                     inputs=x, \n",
    "                                     grad_outputs=torch.Tensor([[1] for i in range(len(x))]))[0]\n",
    "\n",
    "        loss = nn.MSELoss()(dgt_dx, sol)\n",
    "        self.log(\"train_loss\", loss, prog_bar=True, on_step=True, on_epoch=True)\n",
    "        return loss"
   ]
  },
  {
   "cell_type": "code",
   "execution_count": null,
   "id": "00f25c1d-e57e-49d8-842b-4ae70e99985f",
   "metadata": {},
   "outputs": [],
   "source": [
    "class Dataset(data.Dataset):\n",
    "\n",
    "    def __init__(self, init, end, n):\n",
    "\n",
    "        self.n = n\n",
    "        self.x = torch.linspace(init, end, self.n)\n",
    "        self.y = 10*np.exp(2*self.x)\n",
    "        #self.y = 10 + self.x**2\n",
    "\n",
    "    def __len__(self):\n",
    "\n",
    "        return self.n\n",
    "\n",
    "    def __getitem__(self, idx):\n",
    "\n",
    "        x = self.x[idx, np.newaxis]\n",
    "        y = self.y[idx, np.newaxis]\n",
    "\n",
    "        return torch.Tensor(x), torch.Tensor(y)"
   ]
  },
  {
   "cell_type": "code",
   "execution_count": null,
   "id": "1d637546-87e6-4aa9-8e23-b96b09d85cd6",
   "metadata": {},
   "outputs": [],
   "source": [
    "train = Dataset(0, 2, 100)\n",
    "\n",
    "trainer = L.Trainer(logger=False, max_epochs=10000)\n",
    "learner = ODE_Learner(10, 2)\n",
    "trainer.fit(learner, data.DataLoader(train, batch_size=10))"
   ]
  },
  {
   "cell_type": "code",
   "execution_count": null,
   "id": "2db5a2dd-7de6-4c90-b91f-1a7a59596e2f",
   "metadata": {},
   "outputs": [],
   "source": [
    "y = learner.model.forward(train.x.view(100, 1))\n",
    "y = y.detach().cpu()\n",
    "fig = plt.figure(figsize=(10,5))\n",
    "ax = fig.add_subplot(121)\n",
    "\n",
    "ax.plot(train.x, 10 + y.flatten(), color='black')\n",
    "\n",
    "ax1 = fig.add_subplot(122)\n",
    "ax1.plot(train.x, train.y)"
   ]
  },
  {
   "cell_type": "code",
   "execution_count": null,
   "id": "764f4855-1f4c-4d8d-a29d-c19ed9a0bd9d",
   "metadata": {},
   "outputs": [],
   "source": []
  }
 ],
 "metadata": {
  "kernelspec": {
   "display_name": "Python 3 (ipykernel)",
   "language": "python",
   "name": "python3"
  },
  "language_info": {
   "codemirror_mode": {
    "name": "ipython",
    "version": 3
   },
   "file_extension": ".py",
   "mimetype": "text/x-python",
   "name": "python",
   "nbconvert_exporter": "python",
   "pygments_lexer": "ipython3",
   "version": "3.12.1"
  }
 },
 "nbformat": 4,
 "nbformat_minor": 5
}
