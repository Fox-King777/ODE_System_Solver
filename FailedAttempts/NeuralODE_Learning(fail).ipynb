{
 "cells": [
  {
   "cell_type": "markdown",
   "id": "f2a3c688-1c4c-4f13-81bb-059bbc01be88",
   "metadata": {},
   "source": [
    "### Neural ODEs TUTORIAL\n",
    "https://github.com/DiffEqML/\n",
    "\n",
    "https://github.com/rtqichen/torchdiffeq/tree/master\n",
    "\n",
    "https://github.com/Lightning-AI/pytorch-lightning\n",
    "\n",
    "https://lightning.ai/docs/pytorch/stable/starter/introduction.html\n",
    "\n",
    "https://arxiv.org/abs/2008.02389\n",
    "\n",
    "https://arxiv.org/abs/1806.07366"
   ]
  },
  {
   "cell_type": "code",
   "execution_count": null,
   "id": "8f10eed9-c48c-44af-858f-b01f37087ad6",
   "metadata": {},
   "outputs": [],
   "source": [
    "from torchdyn.core import NeuralODE\n",
    "from torchdyn.datasets import *\n",
    "from torchdyn import *\n",
    "\n",
    "%load_ext autoreload\n",
    "%autoreload 2"
   ]
  },
  {
   "cell_type": "code",
   "execution_count": null,
   "id": "7757c613-0973-4253-acc7-bd638cbf53d0",
   "metadata": {},
   "outputs": [],
   "source": [
    "# quick run for automated notebook validation\n",
    "dry_run = False"
   ]
  },
  {
   "cell_type": "markdown",
   "id": "9b2f5e46-255e-4b3a-9df4-e7df8aab3e3e",
   "metadata": {},
   "source": [
    "### Generate data from a static toy dataset\r\n",
    "We’ll be generating data from toy datasets. In torchdyn, we provide a wide range of datasets often use to benchmark and understand Neural ODEs. Here we will use the classic moons dataset and train a Neural ODE for binary classification"
   ]
  },
  {
   "cell_type": "code",
   "execution_count": null,
   "id": "609fd96e-f160-468b-80ab-25033594d4e6",
   "metadata": {},
   "outputs": [],
   "source": [
    "# classification\n",
    "d = ToyDataset()\n",
    "X, yn = d.generate(n_samples=512, noise=1e-1, dataset_type='moons')  "
   ]
  },
  {
   "cell_type": "code",
   "execution_count": null,
   "id": "56fbd6a8-d924-4c70-a7e2-ea8dec608a74",
   "metadata": {},
   "outputs": [],
   "source": [
    "print(len(X))\n",
    "print(X)\n",
    "print(yn)"
   ]
  },
  {
   "cell_type": "code",
   "execution_count": null,
   "id": "f1e61877-ae42-4c29-98bb-36cd1c078a8d",
   "metadata": {},
   "outputs": [],
   "source": [
    "import matplotlib.pyplot as plt\n",
    "\n",
    "colors = ['orange', 'blue'] \n",
    "fig = plt.figure(figsize=(3,3))\n",
    "# subplot: where do you want the plot to show; 111 start from top left\n",
    "ax = fig.add_subplot(111)\n",
    "for i in range(len(X)):\n",
    "    ax.scatter(X[i,0], X[i,1], s=1, color=colors[yn[i].int()])\n",
    "ax"
   ]
  },
  {
   "cell_type": "markdown",
   "id": "f4f80324-7fd2-4cdd-a597-182fa1a9ee16",
   "metadata": {},
   "source": [
    "Generated data can be easily loaded in the dataloader with standard PyTorch calls"
   ]
  },
  {
   "cell_type": "code",
   "execution_count": null,
   "id": "1a577c4a-4ec8-4620-b201-c47f3a38d83a",
   "metadata": {},
   "outputs": [],
   "source": [
    "import torch\n",
    "import torch.utils.data as data\n",
    "device = torch.device(\"cpu\") # all of this works in GPU as well :)\n",
    "\n",
    "X_train = torch.Tensor(X).to(device)\n",
    "y_train = torch.Tensor(yn.to(device))\n",
    "train = data.TensorDataset(X_train, y_train)\n",
    "trainloader = data.DataLoader(train, batch_size=len(X), shuffle=True)"
   ]
  },
  {
   "cell_type": "markdown",
   "id": "f54be598-e0a2-45df-8793-7e4a305a14b9",
   "metadata": {},
   "source": [
    "We utilize Pytorch Lightning to handle training loops, logging and general bookkeeping. This allows torchdyn and Neural Differential Equations to have access to modern best practices for training and experiment reproducibility.\n",
    "\n",
    "In particular, we combine modular torchdyn models with LightningModules via a Learner class:"
   ]
  },
  {
   "cell_type": "code",
   "execution_count": null,
   "id": "2395e3c7-5bee-4a9b-8899-ca61e6ca2b4a",
   "metadata": {},
   "outputs": [],
   "source": [
    "import torch.nn as nn\n",
    "import pytorch_lightning as pl\n",
    "\n",
    "class Learner(pl.LightningModule):\n",
    "    def __init__(self, t_span:torch.Tensor, model:nn.Module):\n",
    "        super().__init__()\n",
    "        self.model, self.t_span = model, t_span\n",
    "\n",
    "    # one entire forward pass of the NN\n",
    "    def forward(self, x):\n",
    "        return self.model(x)\n",
    "\n",
    "    def training_step(self, batch, batch_idx):\n",
    "        x, y = batch\n",
    "        print(x)\n",
    "        print(y)\n",
    "        t_eval, y_hat = self.model(x, self.t_span)\n",
    "        y_hat = y_hat[-1] # select last point of solution trajectory\n",
    "        loss = nn.CrossEntropyLoss()(y_hat, y)\n",
    "        return {'loss': loss}   \n",
    "    \n",
    "    def configure_optimizers(self):\n",
    "        return torch.optim.Adam(self.model.parameters(), lr=0.01)\n",
    "\n",
    "    def train_dataloader(self):\n",
    "        return trainloader"
   ]
  },
  {
   "cell_type": "code",
   "execution_count": null,
   "id": "c45b864b-f946-4501-8885-70dba18cc9a4",
   "metadata": {},
   "outputs": [],
   "source": [
    "t_span = torch.linspace(0,1,100)\n",
    "t_eval, trajectory = model(X_train, t_span)\n",
    "trajectory = trajectory.detach().cpu()"
   ]
  },
  {
   "cell_type": "code",
   "execution_count": null,
   "id": "35f066ff-64f2-40ef-8815-8f1aa6dc7250",
   "metadata": {},
   "outputs": [],
   "source": [
    "f = nn.Sequential(\n",
    "        nn.Linear(2, 16),\n",
    "        nn.Tanh(),\n",
    "        nn.Linear(16, 2)                       \n",
    "    )\n",
    "\n",
    "model = NeuralODE(f, sensitivity='adjoint', solver='rk4', solver_adjoint='dopri5', atol_adjoint=1e-4, rtol_adjoint=1e-4).to(device)\n",
    "\n",
    "learn = Learner(t_span, model)\n",
    "if dry_run: trainer = pl.Trainer(min_epochs=1, max_epochs=1)\n",
    "else: trainer = pl.Trainer(min_epochs=200, max_epochs=300)\n",
    "trainer.fit(learn)"
   ]
  },
  {
   "cell_type": "code",
   "execution_count": null,
   "id": "a5a05299-953e-4cef-b21c-f9ffd9f6383d",
   "metadata": {},
   "outputs": [],
   "source": [
    "color=['orange', 'blue']\n",
    "\n",
    "fig = plt.figure(figsize=(10,2))\n",
    "ax0 = fig.add_subplot(121)\n",
    "ax1 = fig.add_subplot(122)\n",
    "for i in range(500):\n",
    "    ax0.plot(t_span, trajectory[:,i,0], color=color[int(yn[i])], alpha=.1);\n",
    "    ax1.plot(t_span, trajectory[:,i,1], color=color[int(yn[i])], alpha=.1);\n",
    "ax0.set_xlabel(r\"$t$ [Depth]\") ; ax0.set_ylabel(r\"$h_0(t)$\")\n",
    "ax1.set_xlabel(r\"$t$ [Depth]\") ; ax1.set_ylabel(r\"$z_1(t)$\")\n",
    "ax0.set_title(\"Dimension 0\") ; ax1.set_title(\"Dimension 1\")"
   ]
  },
  {
   "cell_type": "code",
   "execution_count": null,
   "id": "b78e352b-cfda-4f37-beb1-67a0b5abf992",
   "metadata": {},
   "outputs": [],
   "source": [
    "for i in range(len(trajectory[0])):\n",
    "    print(\"x: \" + str(trajectory[0][i]) + \" y: \" + str(trajectory[-1][i]))"
   ]
  },
  {
   "cell_type": "code",
   "execution_count": null,
   "id": "804f5feb-c38a-42c3-974d-3a5b45bc050d",
   "metadata": {},
   "outputs": [],
   "source": [
    "x = torch.Tensor([[a] for a in torch.linspace(-20, 20, 81)])\n",
    "y = torch.exp(x.flatten())"
   ]
  },
  {
   "cell_type": "code",
   "execution_count": null,
   "id": "598352ad-d383-45f6-8dea-4d71649647d3",
   "metadata": {},
   "outputs": [],
   "source": [
    "class Exponential_Learner(pl.LightningModule):\n",
    "    def __init__(self, t_span:torch.Tensor, model:nn.Module):\n",
    "        super().__init__()\n",
    "        self.model, self.t_span = model, t_span\n",
    "\n",
    "    # one entire forward pass of the NN\n",
    "    def forward(self, x):\n",
    "        return self.model(x)\n",
    "\n",
    "    def training_step(self, batch, batch_idx):\n",
    "        x, y = batch      \n",
    "        t_eval, y_hat = self.model(x, self.t_span)\n",
    "        y_hat = y_hat[-1] # select last point of solution trajectory\n",
    "        loss = nn.MSELoss()(y_hat, y)\n",
    "        return {'loss': loss}   \n",
    "    \n",
    "    def configure_optimizers(self):\n",
    "        return torch.optim.Adam(self.model.parameters(), lr=0.01)\n",
    "\n",
    "    def train_dataloader(self):\n",
    "        return trainloader"
   ]
  },
  {
   "cell_type": "code",
   "execution_count": null,
   "id": "7b723049-350e-497e-85f3-3623cd8589ba",
   "metadata": {},
   "outputs": [],
   "source": [
    "x_train = torch.Tensor(x).to(device)\n",
    "y_train = torch.Tensor(y.to(device))\n",
    "train = data.TensorDataset(x_train, y_train)\n",
    "trainloader = data.DataLoader(train, batch_size=len(x), shuffle=True)"
   ]
  },
  {
   "cell_type": "code",
   "execution_count": null,
   "id": "d762883b-7225-4526-b002-db3697047200",
   "metadata": {},
   "outputs": [],
   "source": [
    "f = nn.Sequential(\n",
    "        nn.Linear(1, 16),\n",
    "        nn.ELU(),\n",
    "        nn.Linear(16, 1)                       \n",
    "    )\n",
    "\n",
    "modelE = NeuralODE(f, sensitivity='adjoint', solver='rk4', solver_adjoint='dopri5', atol_adjoint=1e-4, rtol_adjoint=1e-4).to(device)"
   ]
  },
  {
   "cell_type": "code",
   "execution_count": null,
   "id": "932a259f-9a96-47de-a3ff-fc9f8fc8a201",
   "metadata": {},
   "outputs": [],
   "source": [
    "t_span = torch.linspace(0,1,100)\n",
    "learnE = Exponential_Learner(t_span, modelE)\n",
    "if dry_run: trainer = pl.Trainer(min_epochs=1, max_epochs=1)\n",
    "else: trainer = pl.Trainer(min_epochs=200, max_epochs=300)\n",
    "trainer.fit(learnE)"
   ]
  },
  {
   "cell_type": "code",
   "execution_count": null,
   "id": "7f483b54-01a3-48bd-a6ec-3fb8ee7647ca",
   "metadata": {},
   "outputs": [],
   "source": [
    "t_eval, trajectory = modelE(x_train, t_span)\n",
    "trajectory = trajectory.detach().cpu()"
   ]
  },
  {
   "cell_type": "code",
   "execution_count": null,
   "id": "eb975cec-75a0-4db4-9e40-a71ac20eab34",
   "metadata": {},
   "outputs": [],
   "source": [
    "fig = plt.figure(figsize=(20,10))\n",
    "ax0 = fig.add_subplot(111)\n",
    "for i in range(81):\n",
    "    ax0.plot(t_span, trajectory[:,i], color='black', alpha=.1);"
   ]
  },
  {
   "cell_type": "code",
   "execution_count": null,
   "id": "8b09a735-edc5-40b9-9f8d-73107d8091cc",
   "metadata": {},
   "outputs": [],
   "source": [
    "fig = plt.figure(figsize=(5,5))\n",
    "ax0 = fig.add_subplot(111)\n",
    "ax0.plot(x, trajectory[-1,:], color='black', alpha=.1);"
   ]
  },
  {
   "cell_type": "code",
   "execution_count": null,
   "id": "f6735871-9273-48be-9455-f4dcea605223",
   "metadata": {},
   "outputs": [],
   "source": [
    "fig = plt.figure(figsize=(5,5))\n",
    "ax0 = fig.add_subplot(111)\n",
    "ax0.plot(x, y, color='black', alpha=.1);"
   ]
  },
  {
   "cell_type": "code",
   "execution_count": null,
   "id": "da2c377a-1212-4cb9-9357-591b513b2b96",
   "metadata": {},
   "outputs": [],
   "source": []
  }
 ],
 "metadata": {
  "kernelspec": {
   "display_name": "Python 3 (ipykernel)",
   "language": "python",
   "name": "python3"
  },
  "language_info": {
   "codemirror_mode": {
    "name": "ipython",
    "version": 3
   },
   "file_extension": ".py",
   "mimetype": "text/x-python",
   "name": "python",
   "nbconvert_exporter": "python",
   "pygments_lexer": "ipython3",
   "version": "3.12.1"
  }
 },
 "nbformat": 4,
 "nbformat_minor": 5
}
