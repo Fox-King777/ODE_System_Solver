{
 "cells": [
  {
   "cell_type": "code",
   "execution_count": 126,
   "id": "32c265b5-5188-4d29-9faa-e5f38d459f1d",
   "metadata": {},
   "outputs": [],
   "source": [
    "import torch, torch.nn as nn, torch.utils.data as data, torch.nn.functional as F\n",
    "from torch.autograd import grad\n",
    "import lightning as L\n",
    "import numpy as np\n",
    "import matplotlib.pyplot as plt"
   ]
  },
  {
   "cell_type": "code",
   "execution_count": 128,
   "id": "9c07a15c-45b9-47e5-9c76-843d4a0ebac7",
   "metadata": {},
   "outputs": [],
   "source": [
    "class ODE_Learner(L.LightningModule):\n",
    "    def __init__(self, init_condition, gamma):\n",
    "        super().__init__()\n",
    "        self.model = nn.Sequential(\n",
    "            nn.Linear(1, 50),\n",
    "            nn.GELU(),\n",
    "            nn.Linear(50, 100),\n",
    "            nn.GELU(),\n",
    "            nn.Linear(100, 500),\n",
    "            nn.GELU(),\n",
    "            nn.Linear(500, 500),\n",
    "            nn.GELU(),\n",
    "            nn.Linear(500, 500),\n",
    "            nn.GELU(),\n",
    "            nn.Linear(500, 500),\n",
    "            nn.GELU(),\n",
    "            nn.Linear(500, 100),\n",
    "            nn.GELU(),\n",
    "            nn.Linear(100, 50),\n",
    "            nn.GELU(),\n",
    "            nn.Linear(50, 1),\n",
    "        )\n",
    "        self.init_condition = init_condition\n",
    "        self.gamma = gamma\n",
    "\n",
    "    def forward(self, x):\n",
    "        return self.model(x)\n",
    "\n",
    "    def configure_optimizers(self):\n",
    "        return torch.optim.Adadelta(self.parameters())\n",
    "\n",
    "    def training_step(self, batch, batch_idx):\n",
    "        x, _ = batch\n",
    "        x.requires_grad = True\n",
    "\n",
    "        g_t = self.init_condition + x * self.forward(x)\n",
    "        # sol = self.gamma * g_t\n",
    "        sol = 2 * x\n",
    "        dgt_dx = grad(\n",
    "            retain_graph=True, outputs=g_t, inputs=x, grad_outputs=torch.ones_like(x)\n",
    "        )[0]\n",
    "\n",
    "        loss = nn.MSELoss()(dgt_dx, sol)\n",
    "        self.log(\"train_loss\", loss, prog_bar=True, on_step=True, on_epoch=True)\n",
    "        return loss"
   ]
  },
  {
   "cell_type": "code",
   "execution_count": 129,
   "id": "00f25c1d-e57e-49d8-842b-4ae70e99985f",
   "metadata": {},
   "outputs": [],
   "source": [
    "class Dataset(data.Dataset):\n",
    "\n",
    "    def __init__(self, init, end, n):\n",
    "\n",
    "        self.n = n\n",
    "        self.x = torch.linspace(init, end, self.n)\n",
    "        # self.y = 10 * np.exp(2 * self.x)\n",
    "        self.y = 10 + self.x**2\n",
    "\n",
    "    def __len__(self):\n",
    "        return self.n\n",
    "\n",
    "    def __getitem__(self, idx):\n",
    "\n",
    "        x = self.x[idx, np.newaxis]\n",
    "        y = self.y[idx, np.newaxis]\n",
    "\n",
    "        return torch.Tensor(x), torch.Tensor(y)"
   ]
  },
  {
   "cell_type": "code",
   "execution_count": 130,
   "id": "1d637546-87e6-4aa9-8e23-b96b09d85cd6",
   "metadata": {},
   "outputs": [
    {
     "name": "stderr",
     "output_type": "stream",
     "text": [
      "GPU available: True (cuda), used: True\n",
      "TPU available: False, using: 0 TPU cores\n",
      "IPU available: False, using: 0 IPUs\n",
      "HPU available: False, using: 0 HPUs\n",
      "c:\\Users\\zheyu\\AppData\\Local\\Programs\\Python\\Python312\\Lib\\site-packages\\lightning\\pytorch\\callbacks\\model_checkpoint.py:653: Checkpoint directory c:\\Users\\zheyu\\OneDrive\\Documents\\GitHub\\Senior-Project\\checkpoints exists and is not empty.\n",
      "LOCAL_RANK: 0 - CUDA_VISIBLE_DEVICES: [0]\n",
      "\n",
      "  | Name  | Type       | Params\n",
      "-------------------------------------\n",
      "0 | model | Sequential | 862 K \n",
      "-------------------------------------\n",
      "862 K     Trainable params\n",
      "0         Non-trainable params\n",
      "862 K     Total params\n",
      "3.450     Total estimated model params size (MB)\n",
      "c:\\Users\\zheyu\\AppData\\Local\\Programs\\Python\\Python312\\Lib\\site-packages\\lightning\\pytorch\\trainer\\connectors\\data_connector.py:441: The 'train_dataloader' does not have many workers which may be a bottleneck. Consider increasing the value of the `num_workers` argument` to `num_workers=11` in the `DataLoader` to improve performance.\n"
     ]
    },
    {
     "data": {
      "application/vnd.jupyter.widget-view+json": {
       "model_id": "1ea9dae997234cbfa77764d26c3418ed",
       "version_major": 2,
       "version_minor": 0
      },
      "text/plain": [
       "Training: |          | 0/? [00:00<?, ?it/s]"
      ]
     },
     "metadata": {},
     "output_type": "display_data"
    },
    {
     "name": "stderr",
     "output_type": "stream",
     "text": [
      "c:\\Users\\zheyu\\AppData\\Local\\Programs\\Python\\Python312\\Lib\\site-packages\\lightning\\pytorch\\trainer\\call.py:54: Detected KeyboardInterrupt, attempting graceful shutdown...\n"
     ]
    }
   ],
   "source": [
    "from lightning.pytorch.callbacks.early_stopping import EarlyStopping\n",
    "\n",
    "train = Dataset(0, 1, 1000)\n",
    "\n",
    "\n",
    "early_stop_callback = EarlyStopping(\n",
    "    monitor=\"train_loss\",\n",
    "    min_delta=0,\n",
    "    patience=10000000,\n",
    "    verbose=False,\n",
    "    mode=\"min\",\n",
    "    stopping_threshold=1,\n",
    ")\n",
    "\n",
    "\n",
    "trainer = L.Trainer(logger=False, max_epochs=200000, callbacks=[early_stop_callback])\n",
    "\n",
    "\n",
    "learner = ODE_Learner(10, 2)\n",
    "\n",
    "\n",
    "trainer.fit(learner, data.DataLoader(train, batch_size=100))"
   ]
  },
  {
   "cell_type": "code",
   "execution_count": 133,
   "id": "2db5a2dd-7de6-4c90-b91f-1a7a59596e2f",
   "metadata": {},
   "outputs": [
    {
     "data": {
      "text/plain": [
       "[<matplotlib.lines.Line2D at 0x26c01c934a0>]"
      ]
     },
     "execution_count": 133,
     "metadata": {},
     "output_type": "execute_result"
    },
    {
     "data": {
      "image/png": "[encoded data removed]",
      "text/plain": [
       "<Figure size 1000x500 with 2 Axes>"
      ]
     },
     "metadata": {},
     "output_type": "display_data"
    }
   ],
   "source": [
    "y = learner.model.forward(train.x.view(1000, 1).to(\"cuda\"))\n",
    "y = y.detach().cpu()\n",
    "\n",
    "\n",
    "fig = plt.figure(figsize=(10, 5))\n",
    "\n",
    "\n",
    "ax = fig.add_subplot(121)\n",
    "\n",
    "\n",
    "ax.plot(train.x, 10 + train.x * y.flatten(), color=\"black\")\n",
    "\n",
    "\n",
    "ax1 = fig.add_subplot(122)\n",
    "ax1.plot(train.x, train.y)"
   ]
  },
  {
   "cell_type": "code",
   "execution_count": null,
   "id": "764f4855-1f4c-4d8d-a29d-c19ed9a0bd9d",
   "metadata": {},
   "outputs": [],
   "source": []
  }
 ],
 "metadata": {
  "kernelspec": {
   "display_name": "Python 3 (ipykernel)",
   "language": "python",
   "name": "python3"
  },
  "language_info": {
   "codemirror_mode": {
    "name": "ipython",
    "version": 3
   },
   "file_extension": ".py",
   "mimetype": "text/x-python",
   "name": "python",
   "nbconvert_exporter": "python",
   "pygments_lexer": "ipython3",
   "version": "3.12.1"
  }
 },
 "nbformat": 4,
 "nbformat_minor": 5
}
